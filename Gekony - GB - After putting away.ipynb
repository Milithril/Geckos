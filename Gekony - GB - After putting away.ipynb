{
 "cells": [
  {
   "cell_type": "markdown",
   "id": "cf0eb9d4",
   "metadata": {},
   "source": [
    "## Author\n",
    "Jarosław Wełeszczuk"
   ]
  },
  {
   "cell_type": "code",
   "execution_count": 1,
   "id": "e907fcf4",
   "metadata": {},
   "outputs": [],
   "source": [
    "import pandas as pd\n",
    "import numpy as np\n",
    "from sklearn.ensemble import GradientBoostingClassifier \n",
    "from sklearn.model_selection import GridSearchCV\n",
    "\n",
    "from sklearn.model_selection import train_test_split\n",
    "from sklearn.model_selection import cross_val_score, KFold\n",
    "import matplotlib.pyplot as plt \n",
    "\n",
    "from sklearn.feature_selection import RFECV\n",
    "from sklearn.metrics import make_scorer\n",
    "\n",
    "from sklearn.metrics import confusion_matrix\n",
    "from sklearn.metrics import f1_score, make_scorer\n",
    "\n",
    "import seaborn as sns"
   ]
  },
  {
   "cell_type": "code",
   "execution_count": 2,
   "id": "a63985f1",
   "metadata": {},
   "outputs": [],
   "source": [
    "caly_df=pd.read_csv('Prepared_geko_data.csv',sep=';')"
   ]
  },
  {
   "cell_type": "code",
   "execution_count": 3,
   "id": "26b10ea4",
   "metadata": {},
   "outputs": [
    {
     "data": {
      "text/html": [
       "<div>\n",
       "<style scoped>\n",
       "    .dataframe tbody tr th:only-of-type {\n",
       "        vertical-align: middle;\n",
       "    }\n",
       "\n",
       "    .dataframe tbody tr th {\n",
       "        vertical-align: top;\n",
       "    }\n",
       "\n",
       "    .dataframe thead th {\n",
       "        text-align: right;\n",
       "    }\n",
       "</style>\n",
       "<table border=\"1\" class=\"dataframe\">\n",
       "  <thead>\n",
       "    <tr style=\"text-align: right;\">\n",
       "      <th></th>\n",
       "      <th>time</th>\n",
       "      <th>temperatur</th>\n",
       "      <th>Sleep poze</th>\n",
       "      <th>Sleep position</th>\n",
       "      <th>splashing reaction</th>\n",
       "      <th>splashing reaction 2</th>\n",
       "      <th>touch reaction</th>\n",
       "      <th>behaviour on hand</th>\n",
       "      <th>after putting away</th>\n",
       "      <th>SPz | S shape</th>\n",
       "      <th>...</th>\n",
       "      <th>TR | runs</th>\n",
       "      <th>TR | moves</th>\n",
       "      <th>BoH | no movement</th>\n",
       "      <th>BoH | runs</th>\n",
       "      <th>BoH | jumps</th>\n",
       "      <th>BoH | moves</th>\n",
       "      <th>ApA | runs</th>\n",
       "      <th>ApA | hides</th>\n",
       "      <th>ApA | moves</th>\n",
       "      <th>ApA | stayes in place</th>\n",
       "    </tr>\n",
       "  </thead>\n",
       "  <tbody>\n",
       "    <tr>\n",
       "      <th>0</th>\n",
       "      <td>10</td>\n",
       "      <td>23</td>\n",
       "      <td>straight</td>\n",
       "      <td>in the hideout</td>\n",
       "      <td>No Movement</td>\n",
       "      <td>does not licks</td>\n",
       "      <td>No Movement</td>\n",
       "      <td>No Movement</td>\n",
       "      <td>stays in place</td>\n",
       "      <td>0</td>\n",
       "      <td>...</td>\n",
       "      <td>0</td>\n",
       "      <td>0</td>\n",
       "      <td>1</td>\n",
       "      <td>0</td>\n",
       "      <td>0</td>\n",
       "      <td>0</td>\n",
       "      <td>0</td>\n",
       "      <td>0</td>\n",
       "      <td>0</td>\n",
       "      <td>1</td>\n",
       "    </tr>\n",
       "    <tr>\n",
       "      <th>1</th>\n",
       "      <td>10</td>\n",
       "      <td>23</td>\n",
       "      <td>U shape</td>\n",
       "      <td>in the hideout</td>\n",
       "      <td>moves the head</td>\n",
       "      <td>does not licks</td>\n",
       "      <td>Runs</td>\n",
       "      <td>Runs</td>\n",
       "      <td>stays in place</td>\n",
       "      <td>0</td>\n",
       "      <td>...</td>\n",
       "      <td>1</td>\n",
       "      <td>0</td>\n",
       "      <td>0</td>\n",
       "      <td>1</td>\n",
       "      <td>0</td>\n",
       "      <td>0</td>\n",
       "      <td>0</td>\n",
       "      <td>0</td>\n",
       "      <td>0</td>\n",
       "      <td>1</td>\n",
       "    </tr>\n",
       "    <tr>\n",
       "      <th>2</th>\n",
       "      <td>10</td>\n",
       "      <td>23</td>\n",
       "      <td>active</td>\n",
       "      <td>active</td>\n",
       "      <td>No Movement</td>\n",
       "      <td>does not licks</td>\n",
       "      <td>No Movement</td>\n",
       "      <td>jumps</td>\n",
       "      <td>Runs</td>\n",
       "      <td>0</td>\n",
       "      <td>...</td>\n",
       "      <td>0</td>\n",
       "      <td>0</td>\n",
       "      <td>0</td>\n",
       "      <td>0</td>\n",
       "      <td>1</td>\n",
       "      <td>0</td>\n",
       "      <td>1</td>\n",
       "      <td>0</td>\n",
       "      <td>0</td>\n",
       "      <td>0</td>\n",
       "    </tr>\n",
       "    <tr>\n",
       "      <th>3</th>\n",
       "      <td>10</td>\n",
       "      <td>23</td>\n",
       "      <td>active</td>\n",
       "      <td>active</td>\n",
       "      <td>moves</td>\n",
       "      <td>licks</td>\n",
       "      <td>Runs</td>\n",
       "      <td>Runs</td>\n",
       "      <td>Runs</td>\n",
       "      <td>0</td>\n",
       "      <td>...</td>\n",
       "      <td>1</td>\n",
       "      <td>0</td>\n",
       "      <td>0</td>\n",
       "      <td>1</td>\n",
       "      <td>0</td>\n",
       "      <td>0</td>\n",
       "      <td>1</td>\n",
       "      <td>0</td>\n",
       "      <td>0</td>\n",
       "      <td>0</td>\n",
       "    </tr>\n",
       "    <tr>\n",
       "      <th>4</th>\n",
       "      <td>10</td>\n",
       "      <td>23</td>\n",
       "      <td>straight</td>\n",
       "      <td>in the hideout</td>\n",
       "      <td>moves the head</td>\n",
       "      <td>licks</td>\n",
       "      <td>Runs</td>\n",
       "      <td>No Movement</td>\n",
       "      <td>stays in place</td>\n",
       "      <td>0</td>\n",
       "      <td>...</td>\n",
       "      <td>1</td>\n",
       "      <td>0</td>\n",
       "      <td>1</td>\n",
       "      <td>0</td>\n",
       "      <td>0</td>\n",
       "      <td>0</td>\n",
       "      <td>0</td>\n",
       "      <td>0</td>\n",
       "      <td>0</td>\n",
       "      <td>1</td>\n",
       "    </tr>\n",
       "    <tr>\n",
       "      <th>...</th>\n",
       "      <td>...</td>\n",
       "      <td>...</td>\n",
       "      <td>...</td>\n",
       "      <td>...</td>\n",
       "      <td>...</td>\n",
       "      <td>...</td>\n",
       "      <td>...</td>\n",
       "      <td>...</td>\n",
       "      <td>...</td>\n",
       "      <td>...</td>\n",
       "      <td>...</td>\n",
       "      <td>...</td>\n",
       "      <td>...</td>\n",
       "      <td>...</td>\n",
       "      <td>...</td>\n",
       "      <td>...</td>\n",
       "      <td>...</td>\n",
       "      <td>...</td>\n",
       "      <td>...</td>\n",
       "      <td>...</td>\n",
       "      <td>...</td>\n",
       "    </tr>\n",
       "    <tr>\n",
       "      <th>2062</th>\n",
       "      <td>16</td>\n",
       "      <td>26</td>\n",
       "      <td>straight</td>\n",
       "      <td>on coconut</td>\n",
       "      <td>moves the head</td>\n",
       "      <td>licks</td>\n",
       "      <td>No Movement</td>\n",
       "      <td>Runs</td>\n",
       "      <td>stays in place</td>\n",
       "      <td>0</td>\n",
       "      <td>...</td>\n",
       "      <td>0</td>\n",
       "      <td>0</td>\n",
       "      <td>0</td>\n",
       "      <td>1</td>\n",
       "      <td>0</td>\n",
       "      <td>0</td>\n",
       "      <td>0</td>\n",
       "      <td>0</td>\n",
       "      <td>0</td>\n",
       "      <td>1</td>\n",
       "    </tr>\n",
       "    <tr>\n",
       "      <th>2063</th>\n",
       "      <td>16</td>\n",
       "      <td>26</td>\n",
       "      <td>straight</td>\n",
       "      <td>back wall</td>\n",
       "      <td>moves the head</td>\n",
       "      <td>does not licks</td>\n",
       "      <td>No Movement</td>\n",
       "      <td>jumps</td>\n",
       "      <td>stays in place</td>\n",
       "      <td>0</td>\n",
       "      <td>...</td>\n",
       "      <td>0</td>\n",
       "      <td>0</td>\n",
       "      <td>0</td>\n",
       "      <td>0</td>\n",
       "      <td>1</td>\n",
       "      <td>0</td>\n",
       "      <td>0</td>\n",
       "      <td>0</td>\n",
       "      <td>0</td>\n",
       "      <td>1</td>\n",
       "    </tr>\n",
       "    <tr>\n",
       "      <th>2064</th>\n",
       "      <td>16</td>\n",
       "      <td>26</td>\n",
       "      <td>active</td>\n",
       "      <td>active</td>\n",
       "      <td>moves</td>\n",
       "      <td>licks</td>\n",
       "      <td>moves</td>\n",
       "      <td>Runs</td>\n",
       "      <td>moves</td>\n",
       "      <td>0</td>\n",
       "      <td>...</td>\n",
       "      <td>0</td>\n",
       "      <td>1</td>\n",
       "      <td>0</td>\n",
       "      <td>1</td>\n",
       "      <td>0</td>\n",
       "      <td>0</td>\n",
       "      <td>0</td>\n",
       "      <td>0</td>\n",
       "      <td>1</td>\n",
       "      <td>0</td>\n",
       "    </tr>\n",
       "    <tr>\n",
       "      <th>2065</th>\n",
       "      <td>16</td>\n",
       "      <td>26</td>\n",
       "      <td>active</td>\n",
       "      <td>active</td>\n",
       "      <td>moves</td>\n",
       "      <td>licks</td>\n",
       "      <td>moves</td>\n",
       "      <td>moves</td>\n",
       "      <td>moves</td>\n",
       "      <td>0</td>\n",
       "      <td>...</td>\n",
       "      <td>0</td>\n",
       "      <td>1</td>\n",
       "      <td>0</td>\n",
       "      <td>0</td>\n",
       "      <td>0</td>\n",
       "      <td>1</td>\n",
       "      <td>0</td>\n",
       "      <td>0</td>\n",
       "      <td>1</td>\n",
       "      <td>0</td>\n",
       "    </tr>\n",
       "    <tr>\n",
       "      <th>2066</th>\n",
       "      <td>16</td>\n",
       "      <td>26</td>\n",
       "      <td>straight</td>\n",
       "      <td>front wall</td>\n",
       "      <td>No Movement</td>\n",
       "      <td>does not licks</td>\n",
       "      <td>moves</td>\n",
       "      <td>moves</td>\n",
       "      <td>hides</td>\n",
       "      <td>0</td>\n",
       "      <td>...</td>\n",
       "      <td>0</td>\n",
       "      <td>1</td>\n",
       "      <td>0</td>\n",
       "      <td>0</td>\n",
       "      <td>0</td>\n",
       "      <td>1</td>\n",
       "      <td>0</td>\n",
       "      <td>1</td>\n",
       "      <td>0</td>\n",
       "      <td>0</td>\n",
       "    </tr>\n",
       "  </tbody>\n",
       "</table>\n",
       "<p>2067 rows × 36 columns</p>\n",
       "</div>"
      ],
      "text/plain": [
       "      time  temperatur Sleep poze  Sleep position splashing reaction  \\\n",
       "0       10          23   straight  in the hideout        No Movement   \n",
       "1       10          23    U shape  in the hideout     moves the head   \n",
       "2       10          23     active          active        No Movement   \n",
       "3       10          23     active          active              moves   \n",
       "4       10          23   straight  in the hideout     moves the head   \n",
       "...    ...         ...        ...             ...                ...   \n",
       "2062    16          26   straight      on coconut     moves the head   \n",
       "2063    16          26   straight       back wall     moves the head   \n",
       "2064    16          26     active          active              moves   \n",
       "2065    16          26     active          active              moves   \n",
       "2066    16          26   straight      front wall        No Movement   \n",
       "\n",
       "     splashing reaction 2 touch reaction behaviour on hand after putting away  \\\n",
       "0          does not licks    No Movement       No Movement     stays in place   \n",
       "1          does not licks           Runs              Runs     stays in place   \n",
       "2          does not licks    No Movement             jumps               Runs   \n",
       "3                   licks           Runs              Runs               Runs   \n",
       "4                   licks           Runs       No Movement     stays in place   \n",
       "...                   ...            ...               ...                ...   \n",
       "2062                licks    No Movement              Runs     stays in place   \n",
       "2063       does not licks    No Movement             jumps     stays in place   \n",
       "2064                licks          moves              Runs              moves   \n",
       "2065                licks          moves             moves              moves   \n",
       "2066       does not licks          moves             moves              hides   \n",
       "\n",
       "      SPz | S shape  ...  TR | runs  TR | moves  BoH | no movement  \\\n",
       "0                 0  ...          0           0                  1   \n",
       "1                 0  ...          1           0                  0   \n",
       "2                 0  ...          0           0                  0   \n",
       "3                 0  ...          1           0                  0   \n",
       "4                 0  ...          1           0                  1   \n",
       "...             ...  ...        ...         ...                ...   \n",
       "2062              0  ...          0           0                  0   \n",
       "2063              0  ...          0           0                  0   \n",
       "2064              0  ...          0           1                  0   \n",
       "2065              0  ...          0           1                  0   \n",
       "2066              0  ...          0           1                  0   \n",
       "\n",
       "      BoH | runs  BoH | jumps  BoH | moves  ApA | runs  ApA | hides  \\\n",
       "0              0            0            0           0            0   \n",
       "1              1            0            0           0            0   \n",
       "2              0            1            0           1            0   \n",
       "3              1            0            0           1            0   \n",
       "4              0            0            0           0            0   \n",
       "...          ...          ...          ...         ...          ...   \n",
       "2062           1            0            0           0            0   \n",
       "2063           0            1            0           0            0   \n",
       "2064           1            0            0           0            0   \n",
       "2065           0            0            1           0            0   \n",
       "2066           0            0            1           0            1   \n",
       "\n",
       "      ApA | moves  ApA | stayes in place  \n",
       "0               0                      1  \n",
       "1               0                      1  \n",
       "2               0                      0  \n",
       "3               0                      0  \n",
       "4               0                      1  \n",
       "...           ...                    ...  \n",
       "2062            0                      1  \n",
       "2063            0                      1  \n",
       "2064            1                      0  \n",
       "2065            1                      0  \n",
       "2066            0                      0  \n",
       "\n",
       "[2067 rows x 36 columns]"
      ]
     },
     "execution_count": 3,
     "metadata": {},
     "output_type": "execute_result"
    }
   ],
   "source": [
    "caly_df"
   ]
  },
  {
   "cell_type": "code",
   "execution_count": 4,
   "id": "33056d0a",
   "metadata": {},
   "outputs": [
    {
     "data": {
      "text/plain": [
       "<AxesSubplot:>"
      ]
     },
     "execution_count": 4,
     "metadata": {},
     "output_type": "execute_result"
    },
    {
     "data": {
      "image/png": "[encoded data removed]",
      "text/plain": [
       "<Figure size 432x288 with 1 Axes>"
      ]
     },
     "metadata": {
      "needs_background": "light"
     },
     "output_type": "display_data"
    }
   ],
   "source": [
    "caly_df['time'].hist()"
   ]
  },
  {
   "cell_type": "code",
   "execution_count": 5,
   "id": "9b9ae818",
   "metadata": {},
   "outputs": [
    {
     "data": {
      "text/plain": [
       "<AxesSubplot:>"
      ]
     },
     "execution_count": 5,
     "metadata": {},
     "output_type": "execute_result"
    },
    {
     "data": {
      "image/png": "[encoded data removed]",
      "text/plain": [
       "<Figure size 432x288 with 1 Axes>"
      ]
     },
     "metadata": {
      "needs_background": "light"
     },
     "output_type": "display_data"
    }
   ],
   "source": [
    "caly_df['temperatur'].hist()"
   ]
  },
  {
   "cell_type": "code",
   "execution_count": 6,
   "id": "49a108e1",
   "metadata": {},
   "outputs": [],
   "source": [
    "caly_label=caly_df['after putting away']"
   ]
  },
  {
   "cell_type": "code",
   "execution_count": 7,
   "id": "fcf90337",
   "metadata": {},
   "outputs": [],
   "source": [
    "del caly_df['Sleep poze']\n",
    "del caly_df['Sleep position']\n",
    "del caly_df['splashing reaction']\n",
    "del caly_df['splashing reaction 2']\n",
    "del caly_df['touch reaction']\n",
    "del caly_df['behaviour on hand']\n",
    "del caly_df['after putting away']"
   ]
  },
  {
   "cell_type": "code",
   "execution_count": 8,
   "id": "eb93f76c",
   "metadata": {},
   "outputs": [],
   "source": [
    "del caly_df['ApA | runs']\n",
    "del caly_df['ApA | hides']\n",
    "del caly_df['ApA | moves']\n",
    "del caly_df['ApA | stayes in place']"
   ]
  },
  {
   "cell_type": "code",
   "execution_count": 9,
   "id": "33b88cf5",
   "metadata": {},
   "outputs": [
    {
     "data": {
      "text/plain": [
       "0       stays in place\n",
       "1       stays in place\n",
       "2                 Runs\n",
       "3                 Runs\n",
       "4       stays in place\n",
       "             ...      \n",
       "2062    stays in place\n",
       "2063    stays in place\n",
       "2064             moves\n",
       "2065             moves\n",
       "2066             hides\n",
       "Name: after putting away, Length: 2067, dtype: object"
      ]
     },
     "execution_count": 9,
     "metadata": {},
     "output_type": "execute_result"
    }
   ],
   "source": [
    "caly_label"
   ]
  },
  {
   "cell_type": "code",
   "execution_count": 10,
   "id": "b8737920",
   "metadata": {
    "scrolled": false
   },
   "outputs": [
    {
     "name": "stdout",
     "output_type": "stream",
     "text": [
      "<class 'pandas.core.frame.DataFrame'>\n",
      "RangeIndex: 2067 entries, 0 to 2066\n",
      "Data columns (total 25 columns):\n",
      " #   Column                Non-Null Count  Dtype\n",
      "---  ------                --------------  -----\n",
      " 0   time                  2067 non-null   int64\n",
      " 1   temperatur            2067 non-null   int64\n",
      " 2   SPz | S shape         2067 non-null   int64\n",
      " 3   SPz | U shape         2067 non-null   int64\n",
      " 4   SPz | active          2067 non-null   int64\n",
      " 5   SPz | straight        2067 non-null   int64\n",
      " 6   SPs | active          2067 non-null   int64\n",
      " 7   SPs | back wall       2067 non-null   int64\n",
      " 8   SPs | front wall      2067 non-null   int64\n",
      " 9   SPs | in the hideout  2067 non-null   int64\n",
      " 10  SPs | left wall       2067 non-null   int64\n",
      " 11  SPs | on coconut      2067 non-null   int64\n",
      " 12  SPs | right wall      2067 non-null   int64\n",
      " 13  SR | no movement      2067 non-null   int64\n",
      " 14  SR | moves            2067 non-null   int64\n",
      " 15  SR | moves the head   2067 non-null   int64\n",
      " 16  SR2 | does not licks  2067 non-null   int64\n",
      " 17  SR2 | licks           2067 non-null   int64\n",
      " 18  TR | no movement      2067 non-null   int64\n",
      " 19  TR | runs             2067 non-null   int64\n",
      " 20  TR | moves            2067 non-null   int64\n",
      " 21  BoH | no movement     2067 non-null   int64\n",
      " 22  BoH | runs            2067 non-null   int64\n",
      " 23  BoH | jumps           2067 non-null   int64\n",
      " 24  BoH | moves           2067 non-null   int64\n",
      "dtypes: int64(25)\n",
      "memory usage: 403.8 KB\n"
     ]
    }
   ],
   "source": [
    "caly_df.info()"
   ]
  },
  {
   "cell_type": "code",
   "execution_count": 11,
   "id": "7f18f35a",
   "metadata": {},
   "outputs": [],
   "source": [
    "param_grid = {\n",
    "    'criterion':['friedman_mse','mse'],#\n",
    "    'min_samples_split':range(5,31,15), #\n",
    "    'min_samples_leaf': range(5,31,15),     #\n",
    "    'max_leaf_nodes':range(5,36,10), #\n",
    "    'max_depth':list(range(5, 36,10)), #\n",
    "    'n_estimators':[100],\n",
    "    'learning_rate':[0.1,0.4],#\n",
    "    'max_features':['auto','sqrt','log2',None],\n",
    "    'min_weight_fraction_leaf':[0.0,0.2],\n",
    "    'min_impurity_decrease':[0.0,0.2]\n",
    "}"
   ]
  },
  {
   "cell_type": "code",
   "execution_count": 12,
   "id": "27e1e0af",
   "metadata": {},
   "outputs": [],
   "source": [
    "f1 = make_scorer(f1_score , average='macro')"
   ]
  },
  {
   "cell_type": "code",
   "execution_count": 14,
   "id": "4f85ba8a",
   "metadata": {},
   "outputs": [
    {
     "name": "stdout",
     "output_type": "stream",
     "text": [
      "Fitting 2 folds for each of 4096 candidates, totalling 8192 fits\n"
     ]
    },
    {
     "data": {
      "text/plain": [
       "GridSearchCV(cv=2, estimator=GradientBoostingClassifier(random_state=42),\n",
       "             n_jobs=1,\n",
       "             param_grid={'criterion': ['friedman_mse', 'mse'],\n",
       "                         'learning_rate': [0.1, 0.4],\n",
       "                         'max_depth': [5, 15, 25, 35],\n",
       "                         'max_features': ['auto', 'sqrt', 'log2', None],\n",
       "                         'max_leaf_nodes': range(5, 36, 10),\n",
       "                         'min_impurity_decrease': [0.0, 0.2],\n",
       "                         'min_samples_leaf': range(5, 31, 15),\n",
       "                         'min_samples_split': range(5, 31, 15),\n",
       "                         'min_weight_fraction_leaf': [0.0, 0.2],\n",
       "                         'n_estimators': [100]},\n",
       "             scoring=make_scorer(f1_score, average=macro), verbose=1)"
      ]
     },
     "execution_count": 14,
     "metadata": {},
     "output_type": "execute_result"
    }
   ],
   "source": [
    "dt_1 = GradientBoostingClassifier(random_state=42)\n",
    "grid_search_1 = GridSearchCV(estimator = dt_1, param_grid = param_grid, \n",
    "                          cv = 2, n_jobs = 1, verbose = 1, scoring=f1)\n",
    "grid_search_1.fit(caly_df, np.ravel(caly_label))"
   ]
  },
  {
   "cell_type": "code",
   "execution_count": 15,
   "id": "001ca114",
   "metadata": {},
   "outputs": [
    {
     "data": {
      "text/plain": [
       "0.2715840594827964"
      ]
     },
     "execution_count": 15,
     "metadata": {},
     "output_type": "execute_result"
    }
   ],
   "source": [
    "grid_search_1.best_score_ "
   ]
  },
  {
   "cell_type": "code",
   "execution_count": 16,
   "id": "0433fc91",
   "metadata": {},
   "outputs": [
    {
     "data": {
      "text/plain": [
       "GradientBoostingClassifier(learning_rate=0.4, max_depth=5, max_features='log2',\n",
       "                           max_leaf_nodes=5, min_samples_leaf=5,\n",
       "                           min_samples_split=5, random_state=42)"
      ]
     },
     "execution_count": 16,
     "metadata": {},
     "output_type": "execute_result"
    }
   ],
   "source": [
    "grid_search_1.best_estimator_"
   ]
  },
  {
   "cell_type": "code",
   "execution_count": 18,
   "id": "1b7f4be8",
   "metadata": {},
   "outputs": [
    {
     "data": {
      "text/plain": [
       "{'criterion': 'friedman_mse',\n",
       " 'learning_rate': 0.4,\n",
       " 'max_depth': 5,\n",
       " 'max_features': 'log2',\n",
       " 'max_leaf_nodes': 5,\n",
       " 'min_impurity_decrease': 0.0,\n",
       " 'min_samples_leaf': 5,\n",
       " 'min_samples_split': 5,\n",
       " 'min_weight_fraction_leaf': 0.0,\n",
       " 'n_estimators': 100}"
      ]
     },
     "execution_count": 18,
     "metadata": {},
     "output_type": "execute_result"
    }
   ],
   "source": [
    "grid_search_1.best_params_"
   ]
  },
  {
   "cell_type": "code",
   "execution_count": 11,
   "id": "44da2cdb",
   "metadata": {},
   "outputs": [],
   "source": [
    "param_grid = {\n",
    "    'criterion':['friedman_mse'],#\n",
    "    'min_samples_split':range(2,15,3), # \n",
    "    'min_samples_leaf': range(2,15,3), #     \n",
    "    'max_leaf_nodes':range(2,15,2),  #\n",
    "    'max_depth':list(range(2, 11,2)), # \n",
    "    'n_estimators':[100], #tbd\n",
    "    'learning_rate':[0.3,0.4,0.5],#\n",
    "    'max_features':['log2'], #\n",
    "    'min_weight_fraction_leaf':[0.0,0.1,0.2], #\n",
    "    'min_impurity_decrease':[0.0,0.1] #\n",
    "}"
   ]
  },
  {
   "cell_type": "code",
   "execution_count": 16,
   "id": "8492fe25",
   "metadata": {
    "scrolled": false
   },
   "outputs": [
    {
     "name": "stdout",
     "output_type": "stream",
     "text": [
      "Fitting 2 folds for each of 15750 candidates, totalling 31500 fits\n"
     ]
    },
    {
     "data": {
      "text/html": [
       "<style>#sk-container-id-1 {color: black;background-color: white;}#sk-container-id-1 pre{padding: 0;}#sk-container-id-1 div.sk-toggleable {background-color: white;}#sk-container-id-1 label.sk-toggleable__label {cursor: pointer;display: block;width: 100%;margin-bottom: 0;padding: 0.3em;box-sizing: border-box;text-align: center;}#sk-container-id-1 label.sk-toggleable__label-arrow:before {content: \"▸\";float: left;margin-right: 0.25em;color: #696969;}#sk-container-id-1 label.sk-toggleable__label-arrow:hover:before {color: black;}#sk-container-id-1 div.sk-estimator:hover label.sk-toggleable__label-arrow:before {color: black;}#sk-container-id-1 div.sk-toggleable__content {max-height: 0;max-width: 0;overflow: hidden;text-align: left;background-color: #f0f8ff;}#sk-container-id-1 div.sk-toggleable__content pre {margin: 0.2em;color: black;border-radius: 0.25em;background-color: #f0f8ff;}#sk-container-id-1 input.sk-toggleable__control:checked~div.sk-toggleable__content {max-height: 200px;max-width: 100%;overflow: auto;}#sk-container-id-1 input.sk-toggleable__control:checked~label.sk-toggleable__label-arrow:before {content: \"▾\";}#sk-container-id-1 div.sk-estimator input.sk-toggleable__control:checked~label.sk-toggleable__label {background-color: #d4ebff;}#sk-container-id-1 div.sk-label input.sk-toggleable__control:checked~label.sk-toggleable__label {background-color: #d4ebff;}#sk-container-id-1 input.sk-hidden--visually {border: 0;clip: rect(1px 1px 1px 1px);clip: rect(1px, 1px, 1px, 1px);height: 1px;margin: -1px;overflow: hidden;padding: 0;position: absolute;width: 1px;}#sk-container-id-1 div.sk-estimator {font-family: monospace;background-color: #f0f8ff;border: 1px dotted black;border-radius: 0.25em;box-sizing: border-box;margin-bottom: 0.5em;}#sk-container-id-1 div.sk-estimator:hover {background-color: #d4ebff;}#sk-container-id-1 div.sk-parallel-item::after {content: \"\";width: 100%;border-bottom: 1px solid gray;flex-grow: 1;}#sk-container-id-1 div.sk-label:hover label.sk-toggleable__label {background-color: #d4ebff;}#sk-container-id-1 div.sk-serial::before {content: \"\";position: absolute;border-left: 1px solid gray;box-sizing: border-box;top: 0;bottom: 0;left: 50%;z-index: 0;}#sk-container-id-1 div.sk-serial {display: flex;flex-direction: column;align-items: center;background-color: white;padding-right: 0.2em;padding-left: 0.2em;position: relative;}#sk-container-id-1 div.sk-item {position: relative;z-index: 1;}#sk-container-id-1 div.sk-parallel {display: flex;align-items: stretch;justify-content: center;background-color: white;position: relative;}#sk-container-id-1 div.sk-item::before, #sk-container-id-1 div.sk-parallel-item::before {content: \"\";position: absolute;border-left: 1px solid gray;box-sizing: border-box;top: 0;bottom: 0;left: 50%;z-index: -1;}#sk-container-id-1 div.sk-parallel-item {display: flex;flex-direction: column;z-index: 1;position: relative;background-color: white;}#sk-container-id-1 div.sk-parallel-item:first-child::after {align-self: flex-end;width: 50%;}#sk-container-id-1 div.sk-parallel-item:last-child::after {align-self: flex-start;width: 50%;}#sk-container-id-1 div.sk-parallel-item:only-child::after {width: 0;}#sk-container-id-1 div.sk-dashed-wrapped {border: 1px dashed gray;margin: 0 0.4em 0.5em 0.4em;box-sizing: border-box;padding-bottom: 0.4em;background-color: white;}#sk-container-id-1 div.sk-label label {font-family: monospace;font-weight: bold;display: inline-block;line-height: 1.2em;}#sk-container-id-1 div.sk-label-container {text-align: center;}#sk-container-id-1 div.sk-container {/* jupyter's `normalize.less` sets `[hidden] { display: none; }` but bootstrap.min.css set `[hidden] { display: none !important; }` so we also need the `!important` here to be able to override the default hidden behavior on the sphinx rendered scikit-learn.org. See: https://github.com/scikit-learn/scikit-learn/issues/21755 */display: inline-block !important;position: relative;}#sk-container-id-1 div.sk-text-repr-fallback {display: none;}</style><div id=\"sk-container-id-1\" class=\"sk-top-container\"><div class=\"sk-text-repr-fallback\"><pre>GridSearchCV(cv=2, estimator=GradientBoostingClassifier(random_state=42),\n",
       "             n_jobs=5,\n",
       "             param_grid={&#x27;criterion&#x27;: [&#x27;friedman_mse&#x27;],\n",
       "                         &#x27;learning_rate&#x27;: [0.3, 0.4, 0.5],\n",
       "                         &#x27;max_depth&#x27;: [2, 4, 6, 8, 10],\n",
       "                         &#x27;max_features&#x27;: [&#x27;log2&#x27;],\n",
       "                         &#x27;max_leaf_nodes&#x27;: range(2, 15, 2),\n",
       "                         &#x27;min_impurity_decrease&#x27;: [0.0, 0.1],\n",
       "                         &#x27;min_samples_leaf&#x27;: range(2, 15, 3),\n",
       "                         &#x27;min_samples_split&#x27;: range(2, 15, 3),\n",
       "                         &#x27;min_weight_fraction_leaf&#x27;: [0.0, 0.1, 0.2],\n",
       "                         &#x27;n_estimators&#x27;: [100]},\n",
       "             scoring=make_scorer(f1_score, average=macro), verbose=2)</pre><b>In a Jupyter environment, please rerun this cell to show the HTML representation or trust the notebook. <br />On GitHub, the HTML representation is unable to render, please try loading this page with nbviewer.org.</b></div><div class=\"sk-container\" hidden><div class=\"sk-item sk-dashed-wrapped\"><div class=\"sk-label-container\"><div class=\"sk-label sk-toggleable\"><input class=\"sk-toggleable__control sk-hidden--visually\" id=\"sk-estimator-id-1\" type=\"checkbox\" ><label for=\"sk-estimator-id-1\" class=\"sk-toggleable__label sk-toggleable__label-arrow\">GridSearchCV</label><div class=\"sk-toggleable__content\"><pre>GridSearchCV(cv=2, estimator=GradientBoostingClassifier(random_state=42),\n",
       "             n_jobs=5,\n",
       "             param_grid={&#x27;criterion&#x27;: [&#x27;friedman_mse&#x27;],\n",
       "                         &#x27;learning_rate&#x27;: [0.3, 0.4, 0.5],\n",
       "                         &#x27;max_depth&#x27;: [2, 4, 6, 8, 10],\n",
       "                         &#x27;max_features&#x27;: [&#x27;log2&#x27;],\n",
       "                         &#x27;max_leaf_nodes&#x27;: range(2, 15, 2),\n",
       "                         &#x27;min_impurity_decrease&#x27;: [0.0, 0.1],\n",
       "                         &#x27;min_samples_leaf&#x27;: range(2, 15, 3),\n",
       "                         &#x27;min_samples_split&#x27;: range(2, 15, 3),\n",
       "                         &#x27;min_weight_fraction_leaf&#x27;: [0.0, 0.1, 0.2],\n",
       "                         &#x27;n_estimators&#x27;: [100]},\n",
       "             scoring=make_scorer(f1_score, average=macro), verbose=2)</pre></div></div></div><div class=\"sk-parallel\"><div class=\"sk-parallel-item\"><div class=\"sk-item\"><div class=\"sk-label-container\"><div class=\"sk-label sk-toggleable\"><input class=\"sk-toggleable__control sk-hidden--visually\" id=\"sk-estimator-id-2\" type=\"checkbox\" ><label for=\"sk-estimator-id-2\" class=\"sk-toggleable__label sk-toggleable__label-arrow\">estimator: GradientBoostingClassifier</label><div class=\"sk-toggleable__content\"><pre>GradientBoostingClassifier(random_state=42)</pre></div></div></div><div class=\"sk-serial\"><div class=\"sk-item\"><div class=\"sk-estimator sk-toggleable\"><input class=\"sk-toggleable__control sk-hidden--visually\" id=\"sk-estimator-id-3\" type=\"checkbox\" ><label for=\"sk-estimator-id-3\" class=\"sk-toggleable__label sk-toggleable__label-arrow\">GradientBoostingClassifier</label><div class=\"sk-toggleable__content\"><pre>GradientBoostingClassifier(random_state=42)</pre></div></div></div></div></div></div></div></div></div></div>"
      ],
      "text/plain": [
       "GridSearchCV(cv=2, estimator=GradientBoostingClassifier(random_state=42),\n",
       "             n_jobs=5,\n",
       "             param_grid={'criterion': ['friedman_mse'],\n",
       "                         'learning_rate': [0.3, 0.4, 0.5],\n",
       "                         'max_depth': [2, 4, 6, 8, 10],\n",
       "                         'max_features': ['log2'],\n",
       "                         'max_leaf_nodes': range(2, 15, 2),\n",
       "                         'min_impurity_decrease': [0.0, 0.1],\n",
       "                         'min_samples_leaf': range(2, 15, 3),\n",
       "                         'min_samples_split': range(2, 15, 3),\n",
       "                         'min_weight_fraction_leaf': [0.0, 0.1, 0.2],\n",
       "                         'n_estimators': [100]},\n",
       "             scoring=make_scorer(f1_score, average=macro), verbose=2)"
      ]
     },
     "execution_count": 16,
     "metadata": {},
     "output_type": "execute_result"
    }
   ],
   "source": [
    "dt_1 = GradientBoostingClassifier(random_state=42)\n",
    "grid_search_1 = GridSearchCV(estimator = dt_1, param_grid = param_grid, \n",
    "                          cv = 2, n_jobs = 5, verbose = 2, scoring=f1)\n",
    "grid_search_1.fit(caly_df, np.ravel(caly_label))"
   ]
  },
  {
   "cell_type": "code",
   "execution_count": 17,
   "id": "d840fbae",
   "metadata": {},
   "outputs": [
    {
     "data": {
      "text/plain": [
       "0.2757802244698936"
      ]
     },
     "execution_count": 17,
     "metadata": {},
     "output_type": "execute_result"
    }
   ],
   "source": [
    "grid_search_1.best_score_"
   ]
  },
  {
   "cell_type": "code",
   "execution_count": 18,
   "id": "26b05af6",
   "metadata": {},
   "outputs": [
    {
     "data": {
      "text/html": [
       "<style>#sk-container-id-2 {color: black;background-color: white;}#sk-container-id-2 pre{padding: 0;}#sk-container-id-2 div.sk-toggleable {background-color: white;}#sk-container-id-2 label.sk-toggleable__label {cursor: pointer;display: block;width: 100%;margin-bottom: 0;padding: 0.3em;box-sizing: border-box;text-align: center;}#sk-container-id-2 label.sk-toggleable__label-arrow:before {content: \"▸\";float: left;margin-right: 0.25em;color: #696969;}#sk-container-id-2 label.sk-toggleable__label-arrow:hover:before {color: black;}#sk-container-id-2 div.sk-estimator:hover label.sk-toggleable__label-arrow:before {color: black;}#sk-container-id-2 div.sk-toggleable__content {max-height: 0;max-width: 0;overflow: hidden;text-align: left;background-color: #f0f8ff;}#sk-container-id-2 div.sk-toggleable__content pre {margin: 0.2em;color: black;border-radius: 0.25em;background-color: #f0f8ff;}#sk-container-id-2 input.sk-toggleable__control:checked~div.sk-toggleable__content {max-height: 200px;max-width: 100%;overflow: auto;}#sk-container-id-2 input.sk-toggleable__control:checked~label.sk-toggleable__label-arrow:before {content: \"▾\";}#sk-container-id-2 div.sk-estimator input.sk-toggleable__control:checked~label.sk-toggleable__label {background-color: #d4ebff;}#sk-container-id-2 div.sk-label input.sk-toggleable__control:checked~label.sk-toggleable__label {background-color: #d4ebff;}#sk-container-id-2 input.sk-hidden--visually {border: 0;clip: rect(1px 1px 1px 1px);clip: rect(1px, 1px, 1px, 1px);height: 1px;margin: -1px;overflow: hidden;padding: 0;position: absolute;width: 1px;}#sk-container-id-2 div.sk-estimator {font-family: monospace;background-color: #f0f8ff;border: 1px dotted black;border-radius: 0.25em;box-sizing: border-box;margin-bottom: 0.5em;}#sk-container-id-2 div.sk-estimator:hover {background-color: #d4ebff;}#sk-container-id-2 div.sk-parallel-item::after {content: \"\";width: 100%;border-bottom: 1px solid gray;flex-grow: 1;}#sk-container-id-2 div.sk-label:hover label.sk-toggleable__label {background-color: #d4ebff;}#sk-container-id-2 div.sk-serial::before {content: \"\";position: absolute;border-left: 1px solid gray;box-sizing: border-box;top: 0;bottom: 0;left: 50%;z-index: 0;}#sk-container-id-2 div.sk-serial {display: flex;flex-direction: column;align-items: center;background-color: white;padding-right: 0.2em;padding-left: 0.2em;position: relative;}#sk-container-id-2 div.sk-item {position: relative;z-index: 1;}#sk-container-id-2 div.sk-parallel {display: flex;align-items: stretch;justify-content: center;background-color: white;position: relative;}#sk-container-id-2 div.sk-item::before, #sk-container-id-2 div.sk-parallel-item::before {content: \"\";position: absolute;border-left: 1px solid gray;box-sizing: border-box;top: 0;bottom: 0;left: 50%;z-index: -1;}#sk-container-id-2 div.sk-parallel-item {display: flex;flex-direction: column;z-index: 1;position: relative;background-color: white;}#sk-container-id-2 div.sk-parallel-item:first-child::after {align-self: flex-end;width: 50%;}#sk-container-id-2 div.sk-parallel-item:last-child::after {align-self: flex-start;width: 50%;}#sk-container-id-2 div.sk-parallel-item:only-child::after {width: 0;}#sk-container-id-2 div.sk-dashed-wrapped {border: 1px dashed gray;margin: 0 0.4em 0.5em 0.4em;box-sizing: border-box;padding-bottom: 0.4em;background-color: white;}#sk-container-id-2 div.sk-label label {font-family: monospace;font-weight: bold;display: inline-block;line-height: 1.2em;}#sk-container-id-2 div.sk-label-container {text-align: center;}#sk-container-id-2 div.sk-container {/* jupyter's `normalize.less` sets `[hidden] { display: none; }` but bootstrap.min.css set `[hidden] { display: none !important; }` so we also need the `!important` here to be able to override the default hidden behavior on the sphinx rendered scikit-learn.org. See: https://github.com/scikit-learn/scikit-learn/issues/21755 */display: inline-block !important;position: relative;}#sk-container-id-2 div.sk-text-repr-fallback {display: none;}</style><div id=\"sk-container-id-2\" class=\"sk-top-container\"><div class=\"sk-text-repr-fallback\"><pre>GradientBoostingClassifier(learning_rate=0.5, max_depth=6, max_features=&#x27;log2&#x27;,\n",
       "                           max_leaf_nodes=10, min_impurity_decrease=0.1,\n",
       "                           min_samples_leaf=2, random_state=42)</pre><b>In a Jupyter environment, please rerun this cell to show the HTML representation or trust the notebook. <br />On GitHub, the HTML representation is unable to render, please try loading this page with nbviewer.org.</b></div><div class=\"sk-container\" hidden><div class=\"sk-item\"><div class=\"sk-estimator sk-toggleable\"><input class=\"sk-toggleable__control sk-hidden--visually\" id=\"sk-estimator-id-4\" type=\"checkbox\" checked><label for=\"sk-estimator-id-4\" class=\"sk-toggleable__label sk-toggleable__label-arrow\">GradientBoostingClassifier</label><div class=\"sk-toggleable__content\"><pre>GradientBoostingClassifier(learning_rate=0.5, max_depth=6, max_features=&#x27;log2&#x27;,\n",
       "                           max_leaf_nodes=10, min_impurity_decrease=0.1,\n",
       "                           min_samples_leaf=2, random_state=42)</pre></div></div></div></div></div>"
      ],
      "text/plain": [
       "GradientBoostingClassifier(learning_rate=0.5, max_depth=6, max_features='log2',\n",
       "                           max_leaf_nodes=10, min_impurity_decrease=0.1,\n",
       "                           min_samples_leaf=2, random_state=42)"
      ]
     },
     "execution_count": 18,
     "metadata": {},
     "output_type": "execute_result"
    }
   ],
   "source": [
    "grid_search_1.best_estimator_"
   ]
  },
  {
   "cell_type": "code",
   "execution_count": 19,
   "id": "9c076b5e",
   "metadata": {},
   "outputs": [
    {
     "data": {
      "text/plain": [
       "{'criterion': 'friedman_mse',\n",
       " 'learning_rate': 0.5,\n",
       " 'max_depth': 6,\n",
       " 'max_features': 'log2',\n",
       " 'max_leaf_nodes': 10,\n",
       " 'min_impurity_decrease': 0.1,\n",
       " 'min_samples_leaf': 2,\n",
       " 'min_samples_split': 2,\n",
       " 'min_weight_fraction_leaf': 0.0,\n",
       " 'n_estimators': 100}"
      ]
     },
     "execution_count": 19,
     "metadata": {},
     "output_type": "execute_result"
    }
   ],
   "source": [
    "grid_search_1.best_params_"
   ]
  },
  {
   "cell_type": "code",
   "execution_count": 20,
   "id": "87025dc7",
   "metadata": {},
   "outputs": [],
   "source": [
    "param_grid = {\n",
    "    'criterion':['friedman_mse'],\n",
    "    'min_samples_split':range(2,5,1), #  \n",
    "    'min_samples_leaf': range(2,5,1), # \n",
    "    'max_leaf_nodes':range(8,13,1),  \n",
    "    'max_depth':list(range(4, 8, 1)), # \n",
    "    'n_estimators':[100], #tbd\n",
    "    'learning_rate':[0.5,0.6,0.7], #\n",
    "    'max_features':['log2'],  #\n",
    "    'min_weight_fraction_leaf':[0.0,0.1], # \n",
    "    'min_impurity_decrease':[0.1,0.2,0.3] # \n",
    "}"
   ]
  },
  {
   "cell_type": "code",
   "execution_count": 22,
   "id": "a2a50d27",
   "metadata": {},
   "outputs": [
    {
     "name": "stdout",
     "output_type": "stream",
     "text": [
      "Fitting 2 folds for each of 3240 candidates, totalling 6480 fits\n"
     ]
    },
    {
     "data": {
      "text/html": [
       "<style>#sk-container-id-3 {color: black;background-color: white;}#sk-container-id-3 pre{padding: 0;}#sk-container-id-3 div.sk-toggleable {background-color: white;}#sk-container-id-3 label.sk-toggleable__label {cursor: pointer;display: block;width: 100%;margin-bottom: 0;padding: 0.3em;box-sizing: border-box;text-align: center;}#sk-container-id-3 label.sk-toggleable__label-arrow:before {content: \"▸\";float: left;margin-right: 0.25em;color: #696969;}#sk-container-id-3 label.sk-toggleable__label-arrow:hover:before {color: black;}#sk-container-id-3 div.sk-estimator:hover label.sk-toggleable__label-arrow:before {color: black;}#sk-container-id-3 div.sk-toggleable__content {max-height: 0;max-width: 0;overflow: hidden;text-align: left;background-color: #f0f8ff;}#sk-container-id-3 div.sk-toggleable__content pre {margin: 0.2em;color: black;border-radius: 0.25em;background-color: #f0f8ff;}#sk-container-id-3 input.sk-toggleable__control:checked~div.sk-toggleable__content {max-height: 200px;max-width: 100%;overflow: auto;}#sk-container-id-3 input.sk-toggleable__control:checked~label.sk-toggleable__label-arrow:before {content: \"▾\";}#sk-container-id-3 div.sk-estimator input.sk-toggleable__control:checked~label.sk-toggleable__label {background-color: #d4ebff;}#sk-container-id-3 div.sk-label input.sk-toggleable__control:checked~label.sk-toggleable__label {background-color: #d4ebff;}#sk-container-id-3 input.sk-hidden--visually {border: 0;clip: rect(1px 1px 1px 1px);clip: rect(1px, 1px, 1px, 1px);height: 1px;margin: -1px;overflow: hidden;padding: 0;position: absolute;width: 1px;}#sk-container-id-3 div.sk-estimator {font-family: monospace;background-color: #f0f8ff;border: 1px dotted black;border-radius: 0.25em;box-sizing: border-box;margin-bottom: 0.5em;}#sk-container-id-3 div.sk-estimator:hover {background-color: #d4ebff;}#sk-container-id-3 div.sk-parallel-item::after {content: \"\";width: 100%;border-bottom: 1px solid gray;flex-grow: 1;}#sk-container-id-3 div.sk-label:hover label.sk-toggleable__label {background-color: #d4ebff;}#sk-container-id-3 div.sk-serial::before {content: \"\";position: absolute;border-left: 1px solid gray;box-sizing: border-box;top: 0;bottom: 0;left: 50%;z-index: 0;}#sk-container-id-3 div.sk-serial {display: flex;flex-direction: column;align-items: center;background-color: white;padding-right: 0.2em;padding-left: 0.2em;position: relative;}#sk-container-id-3 div.sk-item {position: relative;z-index: 1;}#sk-container-id-3 div.sk-parallel {display: flex;align-items: stretch;justify-content: center;background-color: white;position: relative;}#sk-container-id-3 div.sk-item::before, #sk-container-id-3 div.sk-parallel-item::before {content: \"\";position: absolute;border-left: 1px solid gray;box-sizing: border-box;top: 0;bottom: 0;left: 50%;z-index: -1;}#sk-container-id-3 div.sk-parallel-item {display: flex;flex-direction: column;z-index: 1;position: relative;background-color: white;}#sk-container-id-3 div.sk-parallel-item:first-child::after {align-self: flex-end;width: 50%;}#sk-container-id-3 div.sk-parallel-item:last-child::after {align-self: flex-start;width: 50%;}#sk-container-id-3 div.sk-parallel-item:only-child::after {width: 0;}#sk-container-id-3 div.sk-dashed-wrapped {border: 1px dashed gray;margin: 0 0.4em 0.5em 0.4em;box-sizing: border-box;padding-bottom: 0.4em;background-color: white;}#sk-container-id-3 div.sk-label label {font-family: monospace;font-weight: bold;display: inline-block;line-height: 1.2em;}#sk-container-id-3 div.sk-label-container {text-align: center;}#sk-container-id-3 div.sk-container {/* jupyter's `normalize.less` sets `[hidden] { display: none; }` but bootstrap.min.css set `[hidden] { display: none !important; }` so we also need the `!important` here to be able to override the default hidden behavior on the sphinx rendered scikit-learn.org. See: https://github.com/scikit-learn/scikit-learn/issues/21755 */display: inline-block !important;position: relative;}#sk-container-id-3 div.sk-text-repr-fallback {display: none;}</style><div id=\"sk-container-id-3\" class=\"sk-top-container\"><div class=\"sk-text-repr-fallback\"><pre>GridSearchCV(cv=2, estimator=GradientBoostingClassifier(random_state=42),\n",
       "             n_jobs=5,\n",
       "             param_grid={&#x27;criterion&#x27;: [&#x27;friedman_mse&#x27;],\n",
       "                         &#x27;learning_rate&#x27;: [0.5, 0.6, 0.7],\n",
       "                         &#x27;max_depth&#x27;: [4, 5, 6, 7], &#x27;max_features&#x27;: [&#x27;log2&#x27;],\n",
       "                         &#x27;max_leaf_nodes&#x27;: range(8, 13),\n",
       "                         &#x27;min_impurity_decrease&#x27;: [0.1, 0.2, 0.3],\n",
       "                         &#x27;min_samples_leaf&#x27;: range(2, 5),\n",
       "                         &#x27;min_samples_split&#x27;: range(2, 5),\n",
       "                         &#x27;min_weight_fraction_leaf&#x27;: [0.0, 0.1],\n",
       "                         &#x27;n_estimators&#x27;: [100]},\n",
       "             scoring=make_scorer(f1_score, average=macro), verbose=1)</pre><b>In a Jupyter environment, please rerun this cell to show the HTML representation or trust the notebook. <br />On GitHub, the HTML representation is unable to render, please try loading this page with nbviewer.org.</b></div><div class=\"sk-container\" hidden><div class=\"sk-item sk-dashed-wrapped\"><div class=\"sk-label-container\"><div class=\"sk-label sk-toggleable\"><input class=\"sk-toggleable__control sk-hidden--visually\" id=\"sk-estimator-id-5\" type=\"checkbox\" ><label for=\"sk-estimator-id-5\" class=\"sk-toggleable__label sk-toggleable__label-arrow\">GridSearchCV</label><div class=\"sk-toggleable__content\"><pre>GridSearchCV(cv=2, estimator=GradientBoostingClassifier(random_state=42),\n",
       "             n_jobs=5,\n",
       "             param_grid={&#x27;criterion&#x27;: [&#x27;friedman_mse&#x27;],\n",
       "                         &#x27;learning_rate&#x27;: [0.5, 0.6, 0.7],\n",
       "                         &#x27;max_depth&#x27;: [4, 5, 6, 7], &#x27;max_features&#x27;: [&#x27;log2&#x27;],\n",
       "                         &#x27;max_leaf_nodes&#x27;: range(8, 13),\n",
       "                         &#x27;min_impurity_decrease&#x27;: [0.1, 0.2, 0.3],\n",
       "                         &#x27;min_samples_leaf&#x27;: range(2, 5),\n",
       "                         &#x27;min_samples_split&#x27;: range(2, 5),\n",
       "                         &#x27;min_weight_fraction_leaf&#x27;: [0.0, 0.1],\n",
       "                         &#x27;n_estimators&#x27;: [100]},\n",
       "             scoring=make_scorer(f1_score, average=macro), verbose=1)</pre></div></div></div><div class=\"sk-parallel\"><div class=\"sk-parallel-item\"><div class=\"sk-item\"><div class=\"sk-label-container\"><div class=\"sk-label sk-toggleable\"><input class=\"sk-toggleable__control sk-hidden--visually\" id=\"sk-estimator-id-6\" type=\"checkbox\" ><label for=\"sk-estimator-id-6\" class=\"sk-toggleable__label sk-toggleable__label-arrow\">estimator: GradientBoostingClassifier</label><div class=\"sk-toggleable__content\"><pre>GradientBoostingClassifier(random_state=42)</pre></div></div></div><div class=\"sk-serial\"><div class=\"sk-item\"><div class=\"sk-estimator sk-toggleable\"><input class=\"sk-toggleable__control sk-hidden--visually\" id=\"sk-estimator-id-7\" type=\"checkbox\" ><label for=\"sk-estimator-id-7\" class=\"sk-toggleable__label sk-toggleable__label-arrow\">GradientBoostingClassifier</label><div class=\"sk-toggleable__content\"><pre>GradientBoostingClassifier(random_state=42)</pre></div></div></div></div></div></div></div></div></div></div>"
      ],
      "text/plain": [
       "GridSearchCV(cv=2, estimator=GradientBoostingClassifier(random_state=42),\n",
       "             n_jobs=5,\n",
       "             param_grid={'criterion': ['friedman_mse'],\n",
       "                         'learning_rate': [0.5, 0.6, 0.7],\n",
       "                         'max_depth': [4, 5, 6, 7], 'max_features': ['log2'],\n",
       "                         'max_leaf_nodes': range(8, 13),\n",
       "                         'min_impurity_decrease': [0.1, 0.2, 0.3],\n",
       "                         'min_samples_leaf': range(2, 5),\n",
       "                         'min_samples_split': range(2, 5),\n",
       "                         'min_weight_fraction_leaf': [0.0, 0.1],\n",
       "                         'n_estimators': [100]},\n",
       "             scoring=make_scorer(f1_score, average=macro), verbose=1)"
      ]
     },
     "execution_count": 22,
     "metadata": {},
     "output_type": "execute_result"
    }
   ],
   "source": [
    "dt_1 = GradientBoostingClassifier(random_state=42)\n",
    "grid_search_1 = GridSearchCV(estimator = dt_1, param_grid = param_grid, \n",
    "                          cv = 2, n_jobs = 5, verbose = 1, scoring=f1)\n",
    "grid_search_1.fit(caly_df, np.ravel(caly_label))"
   ]
  },
  {
   "cell_type": "code",
   "execution_count": 23,
   "id": "b02ed370",
   "metadata": {},
   "outputs": [
    {
     "data": {
      "text/plain": [
       "0.27656508966291216"
      ]
     },
     "execution_count": 23,
     "metadata": {},
     "output_type": "execute_result"
    }
   ],
   "source": [
    "grid_search_1.best_score_"
   ]
  },
  {
   "cell_type": "code",
   "execution_count": 24,
   "id": "2ee091c0",
   "metadata": {},
   "outputs": [
    {
     "data": {
      "text/html": [
       "<style>#sk-container-id-4 {color: black;background-color: white;}#sk-container-id-4 pre{padding: 0;}#sk-container-id-4 div.sk-toggleable {background-color: white;}#sk-container-id-4 label.sk-toggleable__label {cursor: pointer;display: block;width: 100%;margin-bottom: 0;padding: 0.3em;box-sizing: border-box;text-align: center;}#sk-container-id-4 label.sk-toggleable__label-arrow:before {content: \"▸\";float: left;margin-right: 0.25em;color: #696969;}#sk-container-id-4 label.sk-toggleable__label-arrow:hover:before {color: black;}#sk-container-id-4 div.sk-estimator:hover label.sk-toggleable__label-arrow:before {color: black;}#sk-container-id-4 div.sk-toggleable__content {max-height: 0;max-width: 0;overflow: hidden;text-align: left;background-color: #f0f8ff;}#sk-container-id-4 div.sk-toggleable__content pre {margin: 0.2em;color: black;border-radius: 0.25em;background-color: #f0f8ff;}#sk-container-id-4 input.sk-toggleable__control:checked~div.sk-toggleable__content {max-height: 200px;max-width: 100%;overflow: auto;}#sk-container-id-4 input.sk-toggleable__control:checked~label.sk-toggleable__label-arrow:before {content: \"▾\";}#sk-container-id-4 div.sk-estimator input.sk-toggleable__control:checked~label.sk-toggleable__label {background-color: #d4ebff;}#sk-container-id-4 div.sk-label input.sk-toggleable__control:checked~label.sk-toggleable__label {background-color: #d4ebff;}#sk-container-id-4 input.sk-hidden--visually {border: 0;clip: rect(1px 1px 1px 1px);clip: rect(1px, 1px, 1px, 1px);height: 1px;margin: -1px;overflow: hidden;padding: 0;position: absolute;width: 1px;}#sk-container-id-4 div.sk-estimator {font-family: monospace;background-color: #f0f8ff;border: 1px dotted black;border-radius: 0.25em;box-sizing: border-box;margin-bottom: 0.5em;}#sk-container-id-4 div.sk-estimator:hover {background-color: #d4ebff;}#sk-container-id-4 div.sk-parallel-item::after {content: \"\";width: 100%;border-bottom: 1px solid gray;flex-grow: 1;}#sk-container-id-4 div.sk-label:hover label.sk-toggleable__label {background-color: #d4ebff;}#sk-container-id-4 div.sk-serial::before {content: \"\";position: absolute;border-left: 1px solid gray;box-sizing: border-box;top: 0;bottom: 0;left: 50%;z-index: 0;}#sk-container-id-4 div.sk-serial {display: flex;flex-direction: column;align-items: center;background-color: white;padding-right: 0.2em;padding-left: 0.2em;position: relative;}#sk-container-id-4 div.sk-item {position: relative;z-index: 1;}#sk-container-id-4 div.sk-parallel {display: flex;align-items: stretch;justify-content: center;background-color: white;position: relative;}#sk-container-id-4 div.sk-item::before, #sk-container-id-4 div.sk-parallel-item::before {content: \"\";position: absolute;border-left: 1px solid gray;box-sizing: border-box;top: 0;bottom: 0;left: 50%;z-index: -1;}#sk-container-id-4 div.sk-parallel-item {display: flex;flex-direction: column;z-index: 1;position: relative;background-color: white;}#sk-container-id-4 div.sk-parallel-item:first-child::after {align-self: flex-end;width: 50%;}#sk-container-id-4 div.sk-parallel-item:last-child::after {align-self: flex-start;width: 50%;}#sk-container-id-4 div.sk-parallel-item:only-child::after {width: 0;}#sk-container-id-4 div.sk-dashed-wrapped {border: 1px dashed gray;margin: 0 0.4em 0.5em 0.4em;box-sizing: border-box;padding-bottom: 0.4em;background-color: white;}#sk-container-id-4 div.sk-label label {font-family: monospace;font-weight: bold;display: inline-block;line-height: 1.2em;}#sk-container-id-4 div.sk-label-container {text-align: center;}#sk-container-id-4 div.sk-container {/* jupyter's `normalize.less` sets `[hidden] { display: none; }` but bootstrap.min.css set `[hidden] { display: none !important; }` so we also need the `!important` here to be able to override the default hidden behavior on the sphinx rendered scikit-learn.org. See: https://github.com/scikit-learn/scikit-learn/issues/21755 */display: inline-block !important;position: relative;}#sk-container-id-4 div.sk-text-repr-fallback {display: none;}</style><div id=\"sk-container-id-4\" class=\"sk-top-container\"><div class=\"sk-text-repr-fallback\"><pre>GradientBoostingClassifier(learning_rate=0.7, max_depth=5, max_features=&#x27;log2&#x27;,\n",
       "                           max_leaf_nodes=12, min_impurity_decrease=0.1,\n",
       "                           min_samples_leaf=4, random_state=42)</pre><b>In a Jupyter environment, please rerun this cell to show the HTML representation or trust the notebook. <br />On GitHub, the HTML representation is unable to render, please try loading this page with nbviewer.org.</b></div><div class=\"sk-container\" hidden><div class=\"sk-item\"><div class=\"sk-estimator sk-toggleable\"><input class=\"sk-toggleable__control sk-hidden--visually\" id=\"sk-estimator-id-8\" type=\"checkbox\" checked><label for=\"sk-estimator-id-8\" class=\"sk-toggleable__label sk-toggleable__label-arrow\">GradientBoostingClassifier</label><div class=\"sk-toggleable__content\"><pre>GradientBoostingClassifier(learning_rate=0.7, max_depth=5, max_features=&#x27;log2&#x27;,\n",
       "                           max_leaf_nodes=12, min_impurity_decrease=0.1,\n",
       "                           min_samples_leaf=4, random_state=42)</pre></div></div></div></div></div>"
      ],
      "text/plain": [
       "GradientBoostingClassifier(learning_rate=0.7, max_depth=5, max_features='log2',\n",
       "                           max_leaf_nodes=12, min_impurity_decrease=0.1,\n",
       "                           min_samples_leaf=4, random_state=42)"
      ]
     },
     "execution_count": 24,
     "metadata": {},
     "output_type": "execute_result"
    }
   ],
   "source": [
    "grid_search_1.best_estimator_"
   ]
  },
  {
   "cell_type": "code",
   "execution_count": 25,
   "id": "c0bf1e38",
   "metadata": {},
   "outputs": [
    {
     "data": {
      "text/plain": [
       "{'criterion': 'friedman_mse',\n",
       " 'learning_rate': 0.7,\n",
       " 'max_depth': 5,\n",
       " 'max_features': 'log2',\n",
       " 'max_leaf_nodes': 12,\n",
       " 'min_impurity_decrease': 0.1,\n",
       " 'min_samples_leaf': 4,\n",
       " 'min_samples_split': 2,\n",
       " 'min_weight_fraction_leaf': 0.0,\n",
       " 'n_estimators': 100}"
      ]
     },
     "execution_count": 25,
     "metadata": {},
     "output_type": "execute_result"
    }
   ],
   "source": [
    "grid_search_1.best_params_"
   ]
  },
  {
   "cell_type": "code",
   "execution_count": 27,
   "id": "7ccfacc2",
   "metadata": {},
   "outputs": [],
   "source": [
    "param_grid = {\n",
    "    'criterion':['friedman_mse'],#\n",
    "    'min_samples_split':range(2,5,1), #\n",
    "    'min_samples_leaf': range(3,7,1), # \n",
    "    'max_leaf_nodes':range(11,17,1), #  \n",
    "    'max_depth':list(range(4, 6, 1)), # \n",
    "    'n_estimators':[100], #tbd\n",
    "    'learning_rate':[0.7,0.8,0.9], #\n",
    "    'max_features':['log2'],  #\n",
    "    'min_weight_fraction_leaf':[0.0], # \n",
    "    'min_impurity_decrease':[0, 0.1, 0.2] # \n",
    "}"
   ]
  },
  {
   "cell_type": "code",
   "execution_count": 28,
   "id": "c2cc690e",
   "metadata": {},
   "outputs": [
    {
     "name": "stdout",
     "output_type": "stream",
     "text": [
      "Fitting 2 folds for each of 1296 candidates, totalling 2592 fits\n"
     ]
    },
    {
     "data": {
      "text/html": [
       "<style>#sk-container-id-5 {color: black;background-color: white;}#sk-container-id-5 pre{padding: 0;}#sk-container-id-5 div.sk-toggleable {background-color: white;}#sk-container-id-5 label.sk-toggleable__label {cursor: pointer;display: block;width: 100%;margin-bottom: 0;padding: 0.3em;box-sizing: border-box;text-align: center;}#sk-container-id-5 label.sk-toggleable__label-arrow:before {content: \"▸\";float: left;margin-right: 0.25em;color: #696969;}#sk-container-id-5 label.sk-toggleable__label-arrow:hover:before {color: black;}#sk-container-id-5 div.sk-estimator:hover label.sk-toggleable__label-arrow:before {color: black;}#sk-container-id-5 div.sk-toggleable__content {max-height: 0;max-width: 0;overflow: hidden;text-align: left;background-color: #f0f8ff;}#sk-container-id-5 div.sk-toggleable__content pre {margin: 0.2em;color: black;border-radius: 0.25em;background-color: #f0f8ff;}#sk-container-id-5 input.sk-toggleable__control:checked~div.sk-toggleable__content {max-height: 200px;max-width: 100%;overflow: auto;}#sk-container-id-5 input.sk-toggleable__control:checked~label.sk-toggleable__label-arrow:before {content: \"▾\";}#sk-container-id-5 div.sk-estimator input.sk-toggleable__control:checked~label.sk-toggleable__label {background-color: #d4ebff;}#sk-container-id-5 div.sk-label input.sk-toggleable__control:checked~label.sk-toggleable__label {background-color: #d4ebff;}#sk-container-id-5 input.sk-hidden--visually {border: 0;clip: rect(1px 1px 1px 1px);clip: rect(1px, 1px, 1px, 1px);height: 1px;margin: -1px;overflow: hidden;padding: 0;position: absolute;width: 1px;}#sk-container-id-5 div.sk-estimator {font-family: monospace;background-color: #f0f8ff;border: 1px dotted black;border-radius: 0.25em;box-sizing: border-box;margin-bottom: 0.5em;}#sk-container-id-5 div.sk-estimator:hover {background-color: #d4ebff;}#sk-container-id-5 div.sk-parallel-item::after {content: \"\";width: 100%;border-bottom: 1px solid gray;flex-grow: 1;}#sk-container-id-5 div.sk-label:hover label.sk-toggleable__label {background-color: #d4ebff;}#sk-container-id-5 div.sk-serial::before {content: \"\";position: absolute;border-left: 1px solid gray;box-sizing: border-box;top: 0;bottom: 0;left: 50%;z-index: 0;}#sk-container-id-5 div.sk-serial {display: flex;flex-direction: column;align-items: center;background-color: white;padding-right: 0.2em;padding-left: 0.2em;position: relative;}#sk-container-id-5 div.sk-item {position: relative;z-index: 1;}#sk-container-id-5 div.sk-parallel {display: flex;align-items: stretch;justify-content: center;background-color: white;position: relative;}#sk-container-id-5 div.sk-item::before, #sk-container-id-5 div.sk-parallel-item::before {content: \"\";position: absolute;border-left: 1px solid gray;box-sizing: border-box;top: 0;bottom: 0;left: 50%;z-index: -1;}#sk-container-id-5 div.sk-parallel-item {display: flex;flex-direction: column;z-index: 1;position: relative;background-color: white;}#sk-container-id-5 div.sk-parallel-item:first-child::after {align-self: flex-end;width: 50%;}#sk-container-id-5 div.sk-parallel-item:last-child::after {align-self: flex-start;width: 50%;}#sk-container-id-5 div.sk-parallel-item:only-child::after {width: 0;}#sk-container-id-5 div.sk-dashed-wrapped {border: 1px dashed gray;margin: 0 0.4em 0.5em 0.4em;box-sizing: border-box;padding-bottom: 0.4em;background-color: white;}#sk-container-id-5 div.sk-label label {font-family: monospace;font-weight: bold;display: inline-block;line-height: 1.2em;}#sk-container-id-5 div.sk-label-container {text-align: center;}#sk-container-id-5 div.sk-container {/* jupyter's `normalize.less` sets `[hidden] { display: none; }` but bootstrap.min.css set `[hidden] { display: none !important; }` so we also need the `!important` here to be able to override the default hidden behavior on the sphinx rendered scikit-learn.org. See: https://github.com/scikit-learn/scikit-learn/issues/21755 */display: inline-block !important;position: relative;}#sk-container-id-5 div.sk-text-repr-fallback {display: none;}</style><div id=\"sk-container-id-5\" class=\"sk-top-container\"><div class=\"sk-text-repr-fallback\"><pre>GridSearchCV(cv=2, estimator=GradientBoostingClassifier(random_state=42),\n",
       "             n_jobs=5,\n",
       "             param_grid={&#x27;criterion&#x27;: [&#x27;friedman_mse&#x27;],\n",
       "                         &#x27;learning_rate&#x27;: [0.7, 0.8, 0.9], &#x27;max_depth&#x27;: [4, 5],\n",
       "                         &#x27;max_features&#x27;: [&#x27;log2&#x27;],\n",
       "                         &#x27;max_leaf_nodes&#x27;: range(11, 17),\n",
       "                         &#x27;min_impurity_decrease&#x27;: [0, 0.1, 0.2],\n",
       "                         &#x27;min_samples_leaf&#x27;: range(3, 7),\n",
       "                         &#x27;min_samples_split&#x27;: range(2, 5),\n",
       "                         &#x27;min_weight_fraction_leaf&#x27;: [0.0],\n",
       "                         &#x27;n_estimators&#x27;: [100]},\n",
       "             scoring=make_scorer(f1_score, average=macro), verbose=1)</pre><b>In a Jupyter environment, please rerun this cell to show the HTML representation or trust the notebook. <br />On GitHub, the HTML representation is unable to render, please try loading this page with nbviewer.org.</b></div><div class=\"sk-container\" hidden><div class=\"sk-item sk-dashed-wrapped\"><div class=\"sk-label-container\"><div class=\"sk-label sk-toggleable\"><input class=\"sk-toggleable__control sk-hidden--visually\" id=\"sk-estimator-id-9\" type=\"checkbox\" ><label for=\"sk-estimator-id-9\" class=\"sk-toggleable__label sk-toggleable__label-arrow\">GridSearchCV</label><div class=\"sk-toggleable__content\"><pre>GridSearchCV(cv=2, estimator=GradientBoostingClassifier(random_state=42),\n",
       "             n_jobs=5,\n",
       "             param_grid={&#x27;criterion&#x27;: [&#x27;friedman_mse&#x27;],\n",
       "                         &#x27;learning_rate&#x27;: [0.7, 0.8, 0.9], &#x27;max_depth&#x27;: [4, 5],\n",
       "                         &#x27;max_features&#x27;: [&#x27;log2&#x27;],\n",
       "                         &#x27;max_leaf_nodes&#x27;: range(11, 17),\n",
       "                         &#x27;min_impurity_decrease&#x27;: [0, 0.1, 0.2],\n",
       "                         &#x27;min_samples_leaf&#x27;: range(3, 7),\n",
       "                         &#x27;min_samples_split&#x27;: range(2, 5),\n",
       "                         &#x27;min_weight_fraction_leaf&#x27;: [0.0],\n",
       "                         &#x27;n_estimators&#x27;: [100]},\n",
       "             scoring=make_scorer(f1_score, average=macro), verbose=1)</pre></div></div></div><div class=\"sk-parallel\"><div class=\"sk-parallel-item\"><div class=\"sk-item\"><div class=\"sk-label-container\"><div class=\"sk-label sk-toggleable\"><input class=\"sk-toggleable__control sk-hidden--visually\" id=\"sk-estimator-id-10\" type=\"checkbox\" ><label for=\"sk-estimator-id-10\" class=\"sk-toggleable__label sk-toggleable__label-arrow\">estimator: GradientBoostingClassifier</label><div class=\"sk-toggleable__content\"><pre>GradientBoostingClassifier(random_state=42)</pre></div></div></div><div class=\"sk-serial\"><div class=\"sk-item\"><div class=\"sk-estimator sk-toggleable\"><input class=\"sk-toggleable__control sk-hidden--visually\" id=\"sk-estimator-id-11\" type=\"checkbox\" ><label for=\"sk-estimator-id-11\" class=\"sk-toggleable__label sk-toggleable__label-arrow\">GradientBoostingClassifier</label><div class=\"sk-toggleable__content\"><pre>GradientBoostingClassifier(random_state=42)</pre></div></div></div></div></div></div></div></div></div></div>"
      ],
      "text/plain": [
       "GridSearchCV(cv=2, estimator=GradientBoostingClassifier(random_state=42),\n",
       "             n_jobs=5,\n",
       "             param_grid={'criterion': ['friedman_mse'],\n",
       "                         'learning_rate': [0.7, 0.8, 0.9], 'max_depth': [4, 5],\n",
       "                         'max_features': ['log2'],\n",
       "                         'max_leaf_nodes': range(11, 17),\n",
       "                         'min_impurity_decrease': [0, 0.1, 0.2],\n",
       "                         'min_samples_leaf': range(3, 7),\n",
       "                         'min_samples_split': range(2, 5),\n",
       "                         'min_weight_fraction_leaf': [0.0],\n",
       "                         'n_estimators': [100]},\n",
       "             scoring=make_scorer(f1_score, average=macro), verbose=1)"
      ]
     },
     "execution_count": 28,
     "metadata": {},
     "output_type": "execute_result"
    }
   ],
   "source": [
    "dt_1 = GradientBoostingClassifier(random_state=42)\n",
    "grid_search_1 = GridSearchCV(estimator = dt_1, param_grid = param_grid, \n",
    "                          cv = 2, n_jobs = 5, verbose = 1, scoring=f1)\n",
    "grid_search_1.fit(caly_df, np.ravel(caly_label))"
   ]
  },
  {
   "cell_type": "code",
   "execution_count": 29,
   "id": "11877b2e",
   "metadata": {},
   "outputs": [
    {
     "data": {
      "text/plain": [
       "0.28162851949378975"
      ]
     },
     "execution_count": 29,
     "metadata": {},
     "output_type": "execute_result"
    }
   ],
   "source": [
    "grid_search_1.best_score_"
   ]
  },
  {
   "cell_type": "code",
   "execution_count": 30,
   "id": "da7f5288",
   "metadata": {},
   "outputs": [
    {
     "data": {
      "text/plain": [
       "{'criterion': 'friedman_mse',\n",
       " 'learning_rate': 0.9,\n",
       " 'max_depth': 5,\n",
       " 'max_features': 'log2',\n",
       " 'max_leaf_nodes': 16,\n",
       " 'min_impurity_decrease': 0.2,\n",
       " 'min_samples_leaf': 4,\n",
       " 'min_samples_split': 2,\n",
       " 'min_weight_fraction_leaf': 0.0,\n",
       " 'n_estimators': 100}"
      ]
     },
     "execution_count": 30,
     "metadata": {},
     "output_type": "execute_result"
    }
   ],
   "source": [
    "grid_search_1.best_params_"
   ]
  },
  {
   "cell_type": "code",
   "execution_count": 33,
   "id": "2463fbb7",
   "metadata": {},
   "outputs": [],
   "source": [
    "param_grid = {\n",
    "    'criterion':['friedman_mse'],#\n",
    "    'min_samples_split':[2], #\n",
    "    'min_samples_leaf': [4], # \n",
    "    'max_leaf_nodes':range(15,20,1), #  \n",
    "    'max_depth':list(range(4, 10, 1)), # \n",
    "    'n_estimators':[100,500], #tbd\n",
    "    'learning_rate':[0.9,1], #\n",
    "    'max_features':['log2'],  #\n",
    "    'min_weight_fraction_leaf':[0.0], # \n",
    "    'min_impurity_decrease':[0.2,0.3,0.4] # \n",
    "}"
   ]
  },
  {
   "cell_type": "code",
   "execution_count": 34,
   "id": "9a38174a",
   "metadata": {},
   "outputs": [
    {
     "name": "stdout",
     "output_type": "stream",
     "text": [
      "Fitting 2 folds for each of 360 candidates, totalling 720 fits\n"
     ]
    },
    {
     "data": {
      "text/html": [
       "<style>#sk-container-id-6 {color: black;background-color: white;}#sk-container-id-6 pre{padding: 0;}#sk-container-id-6 div.sk-toggleable {background-color: white;}#sk-container-id-6 label.sk-toggleable__label {cursor: pointer;display: block;width: 100%;margin-bottom: 0;padding: 0.3em;box-sizing: border-box;text-align: center;}#sk-container-id-6 label.sk-toggleable__label-arrow:before {content: \"▸\";float: left;margin-right: 0.25em;color: #696969;}#sk-container-id-6 label.sk-toggleable__label-arrow:hover:before {color: black;}#sk-container-id-6 div.sk-estimator:hover label.sk-toggleable__label-arrow:before {color: black;}#sk-container-id-6 div.sk-toggleable__content {max-height: 0;max-width: 0;overflow: hidden;text-align: left;background-color: #f0f8ff;}#sk-container-id-6 div.sk-toggleable__content pre {margin: 0.2em;color: black;border-radius: 0.25em;background-color: #f0f8ff;}#sk-container-id-6 input.sk-toggleable__control:checked~div.sk-toggleable__content {max-height: 200px;max-width: 100%;overflow: auto;}#sk-container-id-6 input.sk-toggleable__control:checked~label.sk-toggleable__label-arrow:before {content: \"▾\";}#sk-container-id-6 div.sk-estimator input.sk-toggleable__control:checked~label.sk-toggleable__label {background-color: #d4ebff;}#sk-container-id-6 div.sk-label input.sk-toggleable__control:checked~label.sk-toggleable__label {background-color: #d4ebff;}#sk-container-id-6 input.sk-hidden--visually {border: 0;clip: rect(1px 1px 1px 1px);clip: rect(1px, 1px, 1px, 1px);height: 1px;margin: -1px;overflow: hidden;padding: 0;position: absolute;width: 1px;}#sk-container-id-6 div.sk-estimator {font-family: monospace;background-color: #f0f8ff;border: 1px dotted black;border-radius: 0.25em;box-sizing: border-box;margin-bottom: 0.5em;}#sk-container-id-6 div.sk-estimator:hover {background-color: #d4ebff;}#sk-container-id-6 div.sk-parallel-item::after {content: \"\";width: 100%;border-bottom: 1px solid gray;flex-grow: 1;}#sk-container-id-6 div.sk-label:hover label.sk-toggleable__label {background-color: #d4ebff;}#sk-container-id-6 div.sk-serial::before {content: \"\";position: absolute;border-left: 1px solid gray;box-sizing: border-box;top: 0;bottom: 0;left: 50%;z-index: 0;}#sk-container-id-6 div.sk-serial {display: flex;flex-direction: column;align-items: center;background-color: white;padding-right: 0.2em;padding-left: 0.2em;position: relative;}#sk-container-id-6 div.sk-item {position: relative;z-index: 1;}#sk-container-id-6 div.sk-parallel {display: flex;align-items: stretch;justify-content: center;background-color: white;position: relative;}#sk-container-id-6 div.sk-item::before, #sk-container-id-6 div.sk-parallel-item::before {content: \"\";position: absolute;border-left: 1px solid gray;box-sizing: border-box;top: 0;bottom: 0;left: 50%;z-index: -1;}#sk-container-id-6 div.sk-parallel-item {display: flex;flex-direction: column;z-index: 1;position: relative;background-color: white;}#sk-container-id-6 div.sk-parallel-item:first-child::after {align-self: flex-end;width: 50%;}#sk-container-id-6 div.sk-parallel-item:last-child::after {align-self: flex-start;width: 50%;}#sk-container-id-6 div.sk-parallel-item:only-child::after {width: 0;}#sk-container-id-6 div.sk-dashed-wrapped {border: 1px dashed gray;margin: 0 0.4em 0.5em 0.4em;box-sizing: border-box;padding-bottom: 0.4em;background-color: white;}#sk-container-id-6 div.sk-label label {font-family: monospace;font-weight: bold;display: inline-block;line-height: 1.2em;}#sk-container-id-6 div.sk-label-container {text-align: center;}#sk-container-id-6 div.sk-container {/* jupyter's `normalize.less` sets `[hidden] { display: none; }` but bootstrap.min.css set `[hidden] { display: none !important; }` so we also need the `!important` here to be able to override the default hidden behavior on the sphinx rendered scikit-learn.org. See: https://github.com/scikit-learn/scikit-learn/issues/21755 */display: inline-block !important;position: relative;}#sk-container-id-6 div.sk-text-repr-fallback {display: none;}</style><div id=\"sk-container-id-6\" class=\"sk-top-container\"><div class=\"sk-text-repr-fallback\"><pre>GridSearchCV(cv=2, estimator=GradientBoostingClassifier(random_state=42),\n",
       "             n_jobs=5,\n",
       "             param_grid={&#x27;criterion&#x27;: [&#x27;friedman_mse&#x27;],\n",
       "                         &#x27;learning_rate&#x27;: [0.9, 1],\n",
       "                         &#x27;max_depth&#x27;: [4, 5, 6, 7, 8, 9],\n",
       "                         &#x27;max_features&#x27;: [&#x27;log2&#x27;],\n",
       "                         &#x27;max_leaf_nodes&#x27;: range(15, 20),\n",
       "                         &#x27;min_impurity_decrease&#x27;: [0.2, 0.3, 0.4],\n",
       "                         &#x27;min_samples_leaf&#x27;: [4], &#x27;min_samples_split&#x27;: [2],\n",
       "                         &#x27;min_weight_fraction_leaf&#x27;: [0.0],\n",
       "                         &#x27;n_estimators&#x27;: [100, 500]},\n",
       "             scoring=make_scorer(f1_score, average=macro), verbose=1)</pre><b>In a Jupyter environment, please rerun this cell to show the HTML representation or trust the notebook. <br />On GitHub, the HTML representation is unable to render, please try loading this page with nbviewer.org.</b></div><div class=\"sk-container\" hidden><div class=\"sk-item sk-dashed-wrapped\"><div class=\"sk-label-container\"><div class=\"sk-label sk-toggleable\"><input class=\"sk-toggleable__control sk-hidden--visually\" id=\"sk-estimator-id-12\" type=\"checkbox\" ><label for=\"sk-estimator-id-12\" class=\"sk-toggleable__label sk-toggleable__label-arrow\">GridSearchCV</label><div class=\"sk-toggleable__content\"><pre>GridSearchCV(cv=2, estimator=GradientBoostingClassifier(random_state=42),\n",
       "             n_jobs=5,\n",
       "             param_grid={&#x27;criterion&#x27;: [&#x27;friedman_mse&#x27;],\n",
       "                         &#x27;learning_rate&#x27;: [0.9, 1],\n",
       "                         &#x27;max_depth&#x27;: [4, 5, 6, 7, 8, 9],\n",
       "                         &#x27;max_features&#x27;: [&#x27;log2&#x27;],\n",
       "                         &#x27;max_leaf_nodes&#x27;: range(15, 20),\n",
       "                         &#x27;min_impurity_decrease&#x27;: [0.2, 0.3, 0.4],\n",
       "                         &#x27;min_samples_leaf&#x27;: [4], &#x27;min_samples_split&#x27;: [2],\n",
       "                         &#x27;min_weight_fraction_leaf&#x27;: [0.0],\n",
       "                         &#x27;n_estimators&#x27;: [100, 500]},\n",
       "             scoring=make_scorer(f1_score, average=macro), verbose=1)</pre></div></div></div><div class=\"sk-parallel\"><div class=\"sk-parallel-item\"><div class=\"sk-item\"><div class=\"sk-label-container\"><div class=\"sk-label sk-toggleable\"><input class=\"sk-toggleable__control sk-hidden--visually\" id=\"sk-estimator-id-13\" type=\"checkbox\" ><label for=\"sk-estimator-id-13\" class=\"sk-toggleable__label sk-toggleable__label-arrow\">estimator: GradientBoostingClassifier</label><div class=\"sk-toggleable__content\"><pre>GradientBoostingClassifier(random_state=42)</pre></div></div></div><div class=\"sk-serial\"><div class=\"sk-item\"><div class=\"sk-estimator sk-toggleable\"><input class=\"sk-toggleable__control sk-hidden--visually\" id=\"sk-estimator-id-14\" type=\"checkbox\" ><label for=\"sk-estimator-id-14\" class=\"sk-toggleable__label sk-toggleable__label-arrow\">GradientBoostingClassifier</label><div class=\"sk-toggleable__content\"><pre>GradientBoostingClassifier(random_state=42)</pre></div></div></div></div></div></div></div></div></div></div>"
      ],
      "text/plain": [
       "GridSearchCV(cv=2, estimator=GradientBoostingClassifier(random_state=42),\n",
       "             n_jobs=5,\n",
       "             param_grid={'criterion': ['friedman_mse'],\n",
       "                         'learning_rate': [0.9, 1],\n",
       "                         'max_depth': [4, 5, 6, 7, 8, 9],\n",
       "                         'max_features': ['log2'],\n",
       "                         'max_leaf_nodes': range(15, 20),\n",
       "                         'min_impurity_decrease': [0.2, 0.3, 0.4],\n",
       "                         'min_samples_leaf': [4], 'min_samples_split': [2],\n",
       "                         'min_weight_fraction_leaf': [0.0],\n",
       "                         'n_estimators': [100, 500]},\n",
       "             scoring=make_scorer(f1_score, average=macro), verbose=1)"
      ]
     },
     "execution_count": 34,
     "metadata": {},
     "output_type": "execute_result"
    }
   ],
   "source": [
    "dt_1 = GradientBoostingClassifier(random_state=42)\n",
    "grid_search_1 = GridSearchCV(estimator = dt_1, param_grid = param_grid, \n",
    "                          cv = 2, n_jobs = 5, verbose = 1, scoring=f1)\n",
    "grid_search_1.fit(caly_df, np.ravel(caly_label))"
   ]
  },
  {
   "cell_type": "code",
   "execution_count": 35,
   "id": "5709d05d",
   "metadata": {},
   "outputs": [
    {
     "data": {
      "text/plain": [
       "0.28162851949378975"
      ]
     },
     "execution_count": 35,
     "metadata": {},
     "output_type": "execute_result"
    }
   ],
   "source": [
    "grid_search_1.best_score_"
   ]
  },
  {
   "cell_type": "code",
   "execution_count": 36,
   "id": "e9913383",
   "metadata": {},
   "outputs": [
    {
     "data": {
      "text/plain": [
       "{'criterion': 'friedman_mse',\n",
       " 'learning_rate': 0.9,\n",
       " 'max_depth': 5,\n",
       " 'max_features': 'log2',\n",
       " 'max_leaf_nodes': 16,\n",
       " 'min_impurity_decrease': 0.2,\n",
       " 'min_samples_leaf': 4,\n",
       " 'min_samples_split': 2,\n",
       " 'min_weight_fraction_leaf': 0.0,\n",
       " 'n_estimators': 100}"
      ]
     },
     "execution_count": 36,
     "metadata": {},
     "output_type": "execute_result"
    }
   ],
   "source": [
    "grid_search_1.best_params_"
   ]
  },
  {
   "cell_type": "code",
   "execution_count": 13,
   "id": "bd9a177f",
   "metadata": {},
   "outputs": [],
   "source": [
    "kfold = KFold(n_splits=5, shuffle=False)\n",
    "dane_do_zapisu_1=pd.DataFrame()\n",
    "licznik=1\n",
    "wart_1=[]\n",
    "\n",
    "for train, test in kfold.split(caly_df, caly_label):\n",
    "    \n",
    "    RF_1 =GradientBoostingClassifier(learning_rate=0.9, max_depth=5, max_features='log2',\n",
    "                           max_leaf_nodes=16, min_samples_leaf=4, min_impurity_decrease=0.2,\n",
    "                           random_state=42, min_samples_split=2,min_weight_fraction_leaf=0,)\n",
    "    \n",
    "    RF_1.fit(caly_df.iloc[train],\n",
    "             caly_label.iloc[train])\n",
    "    predykcje=RF_1.predict(caly_df.iloc[test])\n",
    "    dane_folda_1=pd.DataFrame({\"pred\": predykcje.ravel(),\n",
    "                                \"obs\": caly_label.iloc[test],\n",
    "                                \"Fold\":licznik})\n",
    "    dane_do_zapisu_1=pd.concat([dane_do_zapisu_1,dane_folda_1])\n",
    "    \n",
    "    sredni_blad=f1_score(caly_label.iloc[test], predykcje, average='macro')\n",
    "    wart_1.append(sredni_blad)\n",
    "    licznik+=1"
   ]
  },
  {
   "cell_type": "code",
   "execution_count": 14,
   "id": "762a6f46",
   "metadata": {},
   "outputs": [
    {
     "data": {
      "text/plain": [
       "[0.22582556347844643,\n",
       " 0.23577455719597085,\n",
       " 0.22378490550957164,\n",
       " 0.21685067537823222,\n",
       " 0.2272648868914543]"
      ]
     },
     "execution_count": 14,
     "metadata": {},
     "output_type": "execute_result"
    }
   ],
   "source": [
    "wart_1"
   ]
  },
  {
   "cell_type": "code",
   "execution_count": 15,
   "id": "f23d0697",
   "metadata": {},
   "outputs": [
    {
     "data": {
      "text/plain": [
       "0.22590011769073506"
      ]
     },
     "execution_count": 15,
     "metadata": {},
     "output_type": "execute_result"
    }
   ],
   "source": [
    "sum(wart_1)/len(wart_1)"
   ]
  },
  {
   "cell_type": "code",
   "execution_count": 16,
   "id": "aa73202c",
   "metadata": {},
   "outputs": [
    {
     "data": {
      "text/plain": [
       "array([[1037,   65,   51,   17],\n",
       "       [ 300,   17,   22,    5],\n",
       "       [ 285,   22,   25,   12],\n",
       "       [ 169,   16,   15,    9]], dtype=int64)"
      ]
     },
     "execution_count": 16,
     "metadata": {},
     "output_type": "execute_result"
    }
   ],
   "source": [
    "confusion_matrix(dane_do_zapisu_1['obs'], dane_do_zapisu_1['pred'], labels=list(pd.unique(caly_label)))"
   ]
  },
  {
   "cell_type": "code",
   "execution_count": 17,
   "id": "ec1c7a55",
   "metadata": {},
   "outputs": [],
   "source": [
    "class_names = RF_1.classes_\n"
   ]
  },
  {
   "cell_type": "code",
   "execution_count": 18,
   "id": "519f2b45",
   "metadata": {},
   "outputs": [],
   "source": [
    "cf_matrix=confusion_matrix(dane_do_zapisu_1[dane_do_zapisu_1['Fold']==5]['obs'],\n",
    "                           dane_do_zapisu_1[dane_do_zapisu_1['Fold']==5]['pred'],\n",
    "                           labels=class_names)"
   ]
  },
  {
   "cell_type": "code",
   "execution_count": 19,
   "id": "2ad858fa",
   "metadata": {},
   "outputs": [
    {
     "data": {
      "text/plain": [
       "Text(0.5, 1.0, 'GradientBoosting - after putting away')"
      ]
     },
     "execution_count": 19,
     "metadata": {},
     "output_type": "execute_result"
    },
    {
     "data": {
      "image/png": "[encoded data removed]",
      "text/plain": [
       "<Figure size 432x288 with 2 Axes>"
      ]
     },
     "metadata": {
      "needs_background": "light"
     },
     "output_type": "display_data"
    }
   ],
   "source": [
    "x_axis_labels = class_names\n",
    "y_axis_labels = class_names\n",
    "\n",
    "# create seabvorn heatmap with required labels\n",
    "ax=sns.heatmap(cf_matrix, xticklabels=x_axis_labels, yticklabels=y_axis_labels,annot=True)\n",
    "ax.set_title('GradientBoosting - after putting away')"
   ]
  },
  {
   "cell_type": "code",
   "execution_count": 46,
   "id": "f84eed8f",
   "metadata": {},
   "outputs": [],
   "source": [
    "#dane_do_zapisu_1.to_csv('Geko_GB__after putting away v_2 .csv',sep=',')"
   ]
  },
  {
   "cell_type": "code",
   "execution_count": null,
   "id": "3f4f30cb",
   "metadata": {},
   "outputs": [],
   "source": [
    "RF_1"
   ]
  },
  {
   "cell_type": "code",
   "execution_count": 25,
   "id": "4432acfb",
   "metadata": {},
   "outputs": [],
   "source": [
    "from sklearn.tree import export_graphviz\n",
    "from sklearn.tree import plot_tree\n",
    "import matplotlib.pyplot as plt"
   ]
  },
  {
   "cell_type": "code",
   "execution_count": 21,
   "id": "de71dd4a",
   "metadata": {},
   "outputs": [
    {
     "data": {
      "text/plain": [
       "array([DecisionTreeRegressor(criterion='friedman_mse', max_depth=5,\n",
       "                             max_features='log2', max_leaf_nodes=16,\n",
       "                             min_impurity_decrease=0.2, min_samples_leaf=4,\n",
       "                             min_weight_fraction_leaf=0,\n",
       "                             random_state=RandomState(MT19937) at 0x25505ADD840),\n",
       "       DecisionTreeRegressor(criterion='friedman_mse', max_depth=5,\n",
       "                             max_features='log2', max_leaf_nodes=16,\n",
       "                             min_impurity_decrease=0.2, min_samples_leaf=4,\n",
       "                             min_weight_fraction_leaf=0,\n",
       "                             random_state=RandomState(MT19937) at 0x25505ADD840),\n",
       "       DecisionTreeRegressor(criterion='friedman_mse', max_depth=5,\n",
       "                             max_features='log2', max_leaf_nodes=16,\n",
       "                             min_impurity_decrease=0.2, min_samples_leaf=4,\n",
       "                             min_weight_fraction_leaf=0,\n",
       "                             random_state=RandomState(MT19937) at 0x25505ADD840),\n",
       "       DecisionTreeRegressor(criterion='friedman_mse', max_depth=5,\n",
       "                             max_features='log2', max_leaf_nodes=16,\n",
       "                             min_impurity_decrease=0.2, min_samples_leaf=4,\n",
       "                             min_weight_fraction_leaf=0,\n",
       "                             random_state=RandomState(MT19937) at 0x25505ADD840)],\n",
       "      dtype=object)"
      ]
     },
     "execution_count": 21,
     "metadata": {},
     "output_type": "execute_result"
    }
   ],
   "source": [
    "RF_1.estimators_[0]"
   ]
  },
  {
   "cell_type": "code",
   "execution_count": 26,
   "id": "e7226daa",
   "metadata": {},
   "outputs": [
    {
     "data": {
      "image/png": "[encoded data removed]",
      "text/plain": [
       "<Figure size 1440x576 with 1 Axes>"
      ]
     },
     "metadata": {
      "needs_background": "light"
     },
     "output_type": "display_data"
    }
   ],
   "source": [
    "plt.figure(figsize=(20,8))\n",
    "plot_tree(RF_1.estimators_[0][0], filled=True)\n",
    "plt.show()"
   ]
  },
  {
   "cell_type": "code",
   "execution_count": 28,
   "id": "ba2504a9",
   "metadata": {},
   "outputs": [
    {
     "data": {
      "text/plain": [
       "array([DecisionTreeRegressor(criterion='friedman_mse', max_depth=5,\n",
       "                             max_features='log2', max_leaf_nodes=16,\n",
       "                             min_impurity_decrease=0.2, min_samples_leaf=4,\n",
       "                             min_weight_fraction_leaf=0,\n",
       "                             random_state=RandomState(MT19937) at 0x25505ADD840),\n",
       "       DecisionTreeRegressor(criterion='friedman_mse', max_depth=5,\n",
       "                             max_features='log2', max_leaf_nodes=16,\n",
       "                             min_impurity_decrease=0.2, min_samples_leaf=4,\n",
       "                             min_weight_fraction_leaf=0,\n",
       "                             random_state=RandomState(MT19937) at 0x25505ADD840),\n",
       "       DecisionTreeRegressor(criterion='friedman_mse', max_depth=5,\n",
       "                             max_features='log2', max_leaf_nodes=16,\n",
       "                             min_impurity_decrease=0.2, min_samples_leaf=4,\n",
       "                             min_weight_fraction_leaf=0,\n",
       "                             random_state=RandomState(MT19937) at 0x25505ADD840),\n",
       "       DecisionTreeRegressor(criterion='friedman_mse', max_depth=5,\n",
       "                             max_features='log2', max_leaf_nodes=16,\n",
       "                             min_impurity_decrease=0.2, min_samples_leaf=4,\n",
       "                             min_weight_fraction_leaf=0,\n",
       "                             random_state=RandomState(MT19937) at 0x25505ADD840)],\n",
       "      dtype=object)"
      ]
     },
     "execution_count": 28,
     "metadata": {},
     "output_type": "execute_result"
    }
   ],
   "source": [
    "RF_1.estimators_[0]"
   ]
  },
  {
   "cell_type": "code",
   "execution_count": null,
   "id": "27f8138b",
   "metadata": {},
   "outputs": [],
   "source": []
  }
 ],
 "metadata": {
  "kernelspec": {
   "display_name": "Python 3 (ipykernel)",
   "language": "python",
   "name": "python3"
  },
  "language_info": {
   "codemirror_mode": {
    "name": "ipython",
    "version": 3
   },
   "file_extension": ".py",
   "mimetype": "text/x-python",
   "name": "python",
   "nbconvert_exporter": "python",
   "pygments_lexer": "ipython3",
   "version": "3.10.4"
  }
 },
 "nbformat": 4,
 "nbformat_minor": 5
}
