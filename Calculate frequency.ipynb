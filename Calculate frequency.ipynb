{
 "cells": [
  {
   "cell_type": "code",
   "execution_count": 43,
   "id": "a70e52eb",
   "metadata": {},
   "outputs": [],
   "source": [
    "import pandas as pd\n",
    "import math "
   ]
  },
  {
   "cell_type": "code",
   "execution_count": 4,
   "id": "dddcfe07",
   "metadata": {},
   "outputs": [],
   "source": [
    "data=pd.read_csv('Prepared_geko_data.csv',sep=';')"
   ]
  },
  {
   "cell_type": "code",
   "execution_count": 5,
   "id": "c6bed215",
   "metadata": {},
   "outputs": [
    {
     "data": {
      "text/html": [
       "<div>\n",
       "<style scoped>\n",
       "    .dataframe tbody tr th:only-of-type {\n",
       "        vertical-align: middle;\n",
       "    }\n",
       "\n",
       "    .dataframe tbody tr th {\n",
       "        vertical-align: top;\n",
       "    }\n",
       "\n",
       "    .dataframe thead th {\n",
       "        text-align: right;\n",
       "    }\n",
       "</style>\n",
       "<table border=\"1\" class=\"dataframe\">\n",
       "  <thead>\n",
       "    <tr style=\"text-align: right;\">\n",
       "      <th></th>\n",
       "      <th>time</th>\n",
       "      <th>temperatur</th>\n",
       "      <th>Sleep poze</th>\n",
       "      <th>Sleep position</th>\n",
       "      <th>splashing reaction</th>\n",
       "      <th>splashing reaction 2</th>\n",
       "      <th>touch reaction</th>\n",
       "      <th>behaviour on hand</th>\n",
       "      <th>after putting away</th>\n",
       "      <th>SPz | S shape</th>\n",
       "      <th>...</th>\n",
       "      <th>TR | runs</th>\n",
       "      <th>TR | moves</th>\n",
       "      <th>BoH | no movement</th>\n",
       "      <th>BoH | runs</th>\n",
       "      <th>BoH | jumps</th>\n",
       "      <th>BoH | moves</th>\n",
       "      <th>ApA | runs</th>\n",
       "      <th>ApA | hides</th>\n",
       "      <th>ApA | moves</th>\n",
       "      <th>ApA | stayes in place</th>\n",
       "    </tr>\n",
       "  </thead>\n",
       "  <tbody>\n",
       "    <tr>\n",
       "      <th>0</th>\n",
       "      <td>10</td>\n",
       "      <td>23</td>\n",
       "      <td>straight</td>\n",
       "      <td>in the hideout</td>\n",
       "      <td>No Movement</td>\n",
       "      <td>does not licks</td>\n",
       "      <td>No Movement</td>\n",
       "      <td>No Movement</td>\n",
       "      <td>stays in place</td>\n",
       "      <td>0</td>\n",
       "      <td>...</td>\n",
       "      <td>0</td>\n",
       "      <td>0</td>\n",
       "      <td>1</td>\n",
       "      <td>0</td>\n",
       "      <td>0</td>\n",
       "      <td>0</td>\n",
       "      <td>0</td>\n",
       "      <td>0</td>\n",
       "      <td>0</td>\n",
       "      <td>1</td>\n",
       "    </tr>\n",
       "    <tr>\n",
       "      <th>1</th>\n",
       "      <td>10</td>\n",
       "      <td>23</td>\n",
       "      <td>U shape</td>\n",
       "      <td>in the hideout</td>\n",
       "      <td>moves the head</td>\n",
       "      <td>does not licks</td>\n",
       "      <td>Runs</td>\n",
       "      <td>Runs</td>\n",
       "      <td>stays in place</td>\n",
       "      <td>0</td>\n",
       "      <td>...</td>\n",
       "      <td>1</td>\n",
       "      <td>0</td>\n",
       "      <td>0</td>\n",
       "      <td>1</td>\n",
       "      <td>0</td>\n",
       "      <td>0</td>\n",
       "      <td>0</td>\n",
       "      <td>0</td>\n",
       "      <td>0</td>\n",
       "      <td>1</td>\n",
       "    </tr>\n",
       "    <tr>\n",
       "      <th>2</th>\n",
       "      <td>10</td>\n",
       "      <td>23</td>\n",
       "      <td>active</td>\n",
       "      <td>active</td>\n",
       "      <td>No Movement</td>\n",
       "      <td>does not licks</td>\n",
       "      <td>No Movement</td>\n",
       "      <td>jumps</td>\n",
       "      <td>Runs</td>\n",
       "      <td>0</td>\n",
       "      <td>...</td>\n",
       "      <td>0</td>\n",
       "      <td>0</td>\n",
       "      <td>0</td>\n",
       "      <td>0</td>\n",
       "      <td>1</td>\n",
       "      <td>0</td>\n",
       "      <td>1</td>\n",
       "      <td>0</td>\n",
       "      <td>0</td>\n",
       "      <td>0</td>\n",
       "    </tr>\n",
       "    <tr>\n",
       "      <th>3</th>\n",
       "      <td>10</td>\n",
       "      <td>23</td>\n",
       "      <td>active</td>\n",
       "      <td>active</td>\n",
       "      <td>moves</td>\n",
       "      <td>licks</td>\n",
       "      <td>Runs</td>\n",
       "      <td>Runs</td>\n",
       "      <td>Runs</td>\n",
       "      <td>0</td>\n",
       "      <td>...</td>\n",
       "      <td>1</td>\n",
       "      <td>0</td>\n",
       "      <td>0</td>\n",
       "      <td>1</td>\n",
       "      <td>0</td>\n",
       "      <td>0</td>\n",
       "      <td>1</td>\n",
       "      <td>0</td>\n",
       "      <td>0</td>\n",
       "      <td>0</td>\n",
       "    </tr>\n",
       "    <tr>\n",
       "      <th>4</th>\n",
       "      <td>10</td>\n",
       "      <td>23</td>\n",
       "      <td>straight</td>\n",
       "      <td>in the hideout</td>\n",
       "      <td>moves the head</td>\n",
       "      <td>licks</td>\n",
       "      <td>Runs</td>\n",
       "      <td>No Movement</td>\n",
       "      <td>stays in place</td>\n",
       "      <td>0</td>\n",
       "      <td>...</td>\n",
       "      <td>1</td>\n",
       "      <td>0</td>\n",
       "      <td>1</td>\n",
       "      <td>0</td>\n",
       "      <td>0</td>\n",
       "      <td>0</td>\n",
       "      <td>0</td>\n",
       "      <td>0</td>\n",
       "      <td>0</td>\n",
       "      <td>1</td>\n",
       "    </tr>\n",
       "    <tr>\n",
       "      <th>...</th>\n",
       "      <td>...</td>\n",
       "      <td>...</td>\n",
       "      <td>...</td>\n",
       "      <td>...</td>\n",
       "      <td>...</td>\n",
       "      <td>...</td>\n",
       "      <td>...</td>\n",
       "      <td>...</td>\n",
       "      <td>...</td>\n",
       "      <td>...</td>\n",
       "      <td>...</td>\n",
       "      <td>...</td>\n",
       "      <td>...</td>\n",
       "      <td>...</td>\n",
       "      <td>...</td>\n",
       "      <td>...</td>\n",
       "      <td>...</td>\n",
       "      <td>...</td>\n",
       "      <td>...</td>\n",
       "      <td>...</td>\n",
       "      <td>...</td>\n",
       "    </tr>\n",
       "    <tr>\n",
       "      <th>2062</th>\n",
       "      <td>16</td>\n",
       "      <td>26</td>\n",
       "      <td>straight</td>\n",
       "      <td>on coconut</td>\n",
       "      <td>moves the head</td>\n",
       "      <td>licks</td>\n",
       "      <td>No Movement</td>\n",
       "      <td>Runs</td>\n",
       "      <td>stays in place</td>\n",
       "      <td>0</td>\n",
       "      <td>...</td>\n",
       "      <td>0</td>\n",
       "      <td>0</td>\n",
       "      <td>0</td>\n",
       "      <td>1</td>\n",
       "      <td>0</td>\n",
       "      <td>0</td>\n",
       "      <td>0</td>\n",
       "      <td>0</td>\n",
       "      <td>0</td>\n",
       "      <td>1</td>\n",
       "    </tr>\n",
       "    <tr>\n",
       "      <th>2063</th>\n",
       "      <td>16</td>\n",
       "      <td>26</td>\n",
       "      <td>straight</td>\n",
       "      <td>back wall</td>\n",
       "      <td>moves the head</td>\n",
       "      <td>does not licks</td>\n",
       "      <td>No Movement</td>\n",
       "      <td>jumps</td>\n",
       "      <td>stays in place</td>\n",
       "      <td>0</td>\n",
       "      <td>...</td>\n",
       "      <td>0</td>\n",
       "      <td>0</td>\n",
       "      <td>0</td>\n",
       "      <td>0</td>\n",
       "      <td>1</td>\n",
       "      <td>0</td>\n",
       "      <td>0</td>\n",
       "      <td>0</td>\n",
       "      <td>0</td>\n",
       "      <td>1</td>\n",
       "    </tr>\n",
       "    <tr>\n",
       "      <th>2064</th>\n",
       "      <td>16</td>\n",
       "      <td>26</td>\n",
       "      <td>active</td>\n",
       "      <td>active</td>\n",
       "      <td>moves</td>\n",
       "      <td>licks</td>\n",
       "      <td>moves</td>\n",
       "      <td>Runs</td>\n",
       "      <td>moves</td>\n",
       "      <td>0</td>\n",
       "      <td>...</td>\n",
       "      <td>0</td>\n",
       "      <td>1</td>\n",
       "      <td>0</td>\n",
       "      <td>1</td>\n",
       "      <td>0</td>\n",
       "      <td>0</td>\n",
       "      <td>0</td>\n",
       "      <td>0</td>\n",
       "      <td>1</td>\n",
       "      <td>0</td>\n",
       "    </tr>\n",
       "    <tr>\n",
       "      <th>2065</th>\n",
       "      <td>16</td>\n",
       "      <td>26</td>\n",
       "      <td>active</td>\n",
       "      <td>active</td>\n",
       "      <td>moves</td>\n",
       "      <td>licks</td>\n",
       "      <td>moves</td>\n",
       "      <td>moves</td>\n",
       "      <td>moves</td>\n",
       "      <td>0</td>\n",
       "      <td>...</td>\n",
       "      <td>0</td>\n",
       "      <td>1</td>\n",
       "      <td>0</td>\n",
       "      <td>0</td>\n",
       "      <td>0</td>\n",
       "      <td>1</td>\n",
       "      <td>0</td>\n",
       "      <td>0</td>\n",
       "      <td>1</td>\n",
       "      <td>0</td>\n",
       "    </tr>\n",
       "    <tr>\n",
       "      <th>2066</th>\n",
       "      <td>16</td>\n",
       "      <td>26</td>\n",
       "      <td>straight</td>\n",
       "      <td>front wall</td>\n",
       "      <td>No Movement</td>\n",
       "      <td>does not licks</td>\n",
       "      <td>moves</td>\n",
       "      <td>moves</td>\n",
       "      <td>hides</td>\n",
       "      <td>0</td>\n",
       "      <td>...</td>\n",
       "      <td>0</td>\n",
       "      <td>1</td>\n",
       "      <td>0</td>\n",
       "      <td>0</td>\n",
       "      <td>0</td>\n",
       "      <td>1</td>\n",
       "      <td>0</td>\n",
       "      <td>1</td>\n",
       "      <td>0</td>\n",
       "      <td>0</td>\n",
       "    </tr>\n",
       "  </tbody>\n",
       "</table>\n",
       "<p>2067 rows × 36 columns</p>\n",
       "</div>"
      ],
      "text/plain": [
       "      time  temperatur Sleep poze  Sleep position splashing reaction  \\\n",
       "0       10          23   straight  in the hideout        No Movement   \n",
       "1       10          23    U shape  in the hideout     moves the head   \n",
       "2       10          23     active          active        No Movement   \n",
       "3       10          23     active          active              moves   \n",
       "4       10          23   straight  in the hideout     moves the head   \n",
       "...    ...         ...        ...             ...                ...   \n",
       "2062    16          26   straight      on coconut     moves the head   \n",
       "2063    16          26   straight       back wall     moves the head   \n",
       "2064    16          26     active          active              moves   \n",
       "2065    16          26     active          active              moves   \n",
       "2066    16          26   straight      front wall        No Movement   \n",
       "\n",
       "     splashing reaction 2 touch reaction behaviour on hand after putting away  \\\n",
       "0          does not licks    No Movement       No Movement     stays in place   \n",
       "1          does not licks           Runs              Runs     stays in place   \n",
       "2          does not licks    No Movement             jumps               Runs   \n",
       "3                   licks           Runs              Runs               Runs   \n",
       "4                   licks           Runs       No Movement     stays in place   \n",
       "...                   ...            ...               ...                ...   \n",
       "2062                licks    No Movement              Runs     stays in place   \n",
       "2063       does not licks    No Movement             jumps     stays in place   \n",
       "2064                licks          moves              Runs              moves   \n",
       "2065                licks          moves             moves              moves   \n",
       "2066       does not licks          moves             moves              hides   \n",
       "\n",
       "      SPz | S shape  ...  TR | runs  TR | moves  BoH | no movement  \\\n",
       "0                 0  ...          0           0                  1   \n",
       "1                 0  ...          1           0                  0   \n",
       "2                 0  ...          0           0                  0   \n",
       "3                 0  ...          1           0                  0   \n",
       "4                 0  ...          1           0                  1   \n",
       "...             ...  ...        ...         ...                ...   \n",
       "2062              0  ...          0           0                  0   \n",
       "2063              0  ...          0           0                  0   \n",
       "2064              0  ...          0           1                  0   \n",
       "2065              0  ...          0           1                  0   \n",
       "2066              0  ...          0           1                  0   \n",
       "\n",
       "      BoH | runs  BoH | jumps  BoH | moves  ApA | runs  ApA | hides  \\\n",
       "0              0            0            0           0            0   \n",
       "1              1            0            0           0            0   \n",
       "2              0            1            0           1            0   \n",
       "3              1            0            0           1            0   \n",
       "4              0            0            0           0            0   \n",
       "...          ...          ...          ...         ...          ...   \n",
       "2062           1            0            0           0            0   \n",
       "2063           0            1            0           0            0   \n",
       "2064           1            0            0           0            0   \n",
       "2065           0            0            1           0            0   \n",
       "2066           0            0            1           0            1   \n",
       "\n",
       "      ApA | moves  ApA | stayes in place  \n",
       "0               0                      1  \n",
       "1               0                      1  \n",
       "2               0                      0  \n",
       "3               0                      0  \n",
       "4               0                      1  \n",
       "...           ...                    ...  \n",
       "2062            0                      1  \n",
       "2063            0                      1  \n",
       "2064            1                      0  \n",
       "2065            1                      0  \n",
       "2066            0                      0  \n",
       "\n",
       "[2067 rows x 36 columns]"
      ]
     },
     "execution_count": 5,
     "metadata": {},
     "output_type": "execute_result"
    }
   ],
   "source": [
    "data"
   ]
  },
  {
   "cell_type": "code",
   "execution_count": 6,
   "id": "7f90c0a1",
   "metadata": {},
   "outputs": [
    {
     "data": {
      "text/plain": [
       "['time',\n",
       " 'temperatur',\n",
       " 'Sleep poze',\n",
       " 'Sleep position',\n",
       " 'splashing reaction',\n",
       " 'splashing reaction 2',\n",
       " 'touch reaction',\n",
       " 'behaviour on hand',\n",
       " 'after putting away',\n",
       " 'SPz | S shape',\n",
       " 'SPz | U shape',\n",
       " 'SPz | active',\n",
       " 'SPz | straight',\n",
       " 'SPs | active',\n",
       " 'SPs | back wall',\n",
       " 'SPs | front wall',\n",
       " 'SPs | in the hideout',\n",
       " 'SPs | left wall',\n",
       " 'SPs | on coconut',\n",
       " 'SPs | right wall',\n",
       " 'SR | no movement',\n",
       " 'SR | moves',\n",
       " 'SR | moves the head',\n",
       " 'SR2 | does not licks',\n",
       " 'SR2 | licks',\n",
       " 'TR | no movement',\n",
       " 'TR | runs',\n",
       " 'TR | moves',\n",
       " 'BoH | no movement',\n",
       " 'BoH | runs',\n",
       " 'BoH | jumps',\n",
       " 'BoH | moves',\n",
       " 'ApA | runs',\n",
       " 'ApA | hides',\n",
       " 'ApA | moves',\n",
       " 'ApA | stayes in place']"
      ]
     },
     "execution_count": 6,
     "metadata": {},
     "output_type": "execute_result"
    }
   ],
   "source": [
    "list(data)"
   ]
  },
  {
   "cell_type": "code",
   "execution_count": 7,
   "id": "736abb57",
   "metadata": {},
   "outputs": [
    {
     "data": {
      "text/plain": [
       "(2067, 36)"
      ]
     },
     "execution_count": 7,
     "metadata": {},
     "output_type": "execute_result"
    }
   ],
   "source": [
    "data.shape"
   ]
  },
  {
   "cell_type": "code",
   "execution_count": 75,
   "id": "60db6cd2",
   "metadata": {},
   "outputs": [],
   "source": [
    "def calculate_std(list_of_numbers):\n",
    "    \n",
    "    mean = sum(list_of_numbers) / len(list_of_numbers)\n",
    "    res = sum((i - mean) ** 2 for i in list_of_numbers) / len(list_of_numbers)\n",
    "    sq = math.sqrt(res) \n",
    "    print(\"The variance of list is : {}\".format(str(round(sq,2))))"
   ]
  },
  {
   "cell_type": "markdown",
   "id": "cc307c91",
   "metadata": {},
   "source": [
    "## 1. Sleep poze"
   ]
  },
  {
   "cell_type": "code",
   "execution_count": 76,
   "id": "fbb0de7e",
   "metadata": {},
   "outputs": [
    {
     "data": {
      "text/plain": [
       "S shape     655\n",
       "straight    501\n",
       "active      486\n",
       "U shape     425\n",
       "Name: Sleep poze, dtype: int64"
      ]
     },
     "execution_count": 76,
     "metadata": {},
     "output_type": "execute_result"
    }
   ],
   "source": [
    "pd.value_counts(data['Sleep poze'])"
   ]
  },
  {
   "cell_type": "code",
   "execution_count": 77,
   "id": "95dfa927",
   "metadata": {},
   "outputs": [
    {
     "name": "stdout",
     "output_type": "stream",
     "text": [
      "32\n",
      "24\n",
      "24\n",
      "21\n"
     ]
    }
   ],
   "source": [
    "values=list(pd.value_counts(data['Sleep poze']))\n",
    "total=0\n",
    "for num in values:\n",
    "    total += num\n",
    "for x in values:\n",
    "    print(int(round((int(x)/total)*100,0)))"
   ]
  },
  {
   "cell_type": "code",
   "execution_count": 78,
   "id": "586eafc7",
   "metadata": {},
   "outputs": [
    {
     "name": "stdout",
     "output_type": "stream",
     "text": [
      "The variance of list is : 84.74\n"
     ]
    }
   ],
   "source": [
    "calculate_std(values)"
   ]
  },
  {
   "cell_type": "markdown",
   "id": "ca2103c0",
   "metadata": {},
   "source": [
    "## 2. Sleep position"
   ]
  },
  {
   "cell_type": "code",
   "execution_count": 79,
   "id": "4fefa874",
   "metadata": {},
   "outputs": [
    {
     "data": {
      "text/plain": [
       "in the hideout    685\n",
       "active            483\n",
       "front wall        323\n",
       "on coconut        259\n",
       "back wall         190\n",
       "right wall         68\n",
       "left wall          59\n",
       "Name: Sleep position, dtype: int64"
      ]
     },
     "execution_count": 79,
     "metadata": {},
     "output_type": "execute_result"
    }
   ],
   "source": [
    "pd.value_counts(data['Sleep position'])"
   ]
  },
  {
   "cell_type": "code",
   "execution_count": 80,
   "id": "dd3df5df",
   "metadata": {},
   "outputs": [
    {
     "name": "stdout",
     "output_type": "stream",
     "text": [
      "33\n",
      "23\n",
      "16\n",
      "13\n",
      "9\n",
      "3\n",
      "3\n"
     ]
    }
   ],
   "source": [
    "values=list(pd.value_counts(data['Sleep position']))\n",
    "total=0\n",
    "for num in values:\n",
    "    total += num\n",
    "for x in values:\n",
    "    print(int(round((int(x)/total)*100,0)))"
   ]
  },
  {
   "cell_type": "code",
   "execution_count": 81,
   "id": "7db96d1c",
   "metadata": {},
   "outputs": [
    {
     "name": "stdout",
     "output_type": "stream",
     "text": [
      "The variance of list is : 209.68\n"
     ]
    }
   ],
   "source": [
    "calculate_std(values)"
   ]
  },
  {
   "cell_type": "markdown",
   "id": "8ab9e9c6",
   "metadata": {},
   "source": [
    "## 3. Splashing reaction"
   ]
  },
  {
   "cell_type": "code",
   "execution_count": 82,
   "id": "055a3813",
   "metadata": {},
   "outputs": [
    {
     "data": {
      "text/plain": [
       "No Movement       1062\n",
       "moves              638\n",
       "moves the head     367\n",
       "Name: splashing reaction, dtype: int64"
      ]
     },
     "execution_count": 82,
     "metadata": {},
     "output_type": "execute_result"
    }
   ],
   "source": [
    "pd.value_counts(data['splashing reaction'])"
   ]
  },
  {
   "cell_type": "code",
   "execution_count": 83,
   "id": "c98bb947",
   "metadata": {},
   "outputs": [
    {
     "name": "stdout",
     "output_type": "stream",
     "text": [
      "51\n",
      "31\n",
      "18\n"
     ]
    }
   ],
   "source": [
    "values=list(pd.value_counts(data['splashing reaction']))\n",
    "total=0\n",
    "for num in values:\n",
    "    total += num\n",
    "for x in values:\n",
    "    print(int(round((int(x)/total)*100,0)))"
   ]
  },
  {
   "cell_type": "code",
   "execution_count": 84,
   "id": "ac562f4a",
   "metadata": {},
   "outputs": [
    {
     "name": "stdout",
     "output_type": "stream",
     "text": [
      "The variance of list is : 286.02\n"
     ]
    }
   ],
   "source": [
    "calculate_std(values)"
   ]
  },
  {
   "cell_type": "markdown",
   "id": "4ee41f5c",
   "metadata": {},
   "source": [
    "## 4. Splashing reaction 2"
   ]
  },
  {
   "cell_type": "code",
   "execution_count": 85,
   "id": "33b4791e",
   "metadata": {},
   "outputs": [
    {
     "data": {
      "text/plain": [
       "does not licks    1338\n",
       "licks              729\n",
       "Name: splashing reaction 2, dtype: int64"
      ]
     },
     "execution_count": 85,
     "metadata": {},
     "output_type": "execute_result"
    }
   ],
   "source": [
    "pd.value_counts(data['splashing reaction 2'])"
   ]
  },
  {
   "cell_type": "code",
   "execution_count": 86,
   "id": "695f0321",
   "metadata": {},
   "outputs": [
    {
     "name": "stdout",
     "output_type": "stream",
     "text": [
      "65\n",
      "35\n"
     ]
    }
   ],
   "source": [
    "values=list(pd.value_counts(data['splashing reaction 2']))\n",
    "total=0\n",
    "for num in values:\n",
    "    total += num\n",
    "for x in values:\n",
    "    print(int(round((int(x)/total)*100,0)))"
   ]
  },
  {
   "cell_type": "code",
   "execution_count": 87,
   "id": "d83a96a3",
   "metadata": {},
   "outputs": [
    {
     "name": "stdout",
     "output_type": "stream",
     "text": [
      "The variance of list is : 304.5\n"
     ]
    }
   ],
   "source": [
    "calculate_std(values)"
   ]
  },
  {
   "cell_type": "markdown",
   "id": "f83f94ed",
   "metadata": {},
   "source": [
    "## 5. Touch reaction"
   ]
  },
  {
   "cell_type": "code",
   "execution_count": 88,
   "id": "031d292c",
   "metadata": {},
   "outputs": [
    {
     "data": {
      "text/plain": [
       "No Movement    881\n",
       "Runs           766\n",
       "moves          420\n",
       "Name: touch reaction, dtype: int64"
      ]
     },
     "execution_count": 88,
     "metadata": {},
     "output_type": "execute_result"
    }
   ],
   "source": [
    "pd.value_counts(data['touch reaction'])"
   ]
  },
  {
   "cell_type": "code",
   "execution_count": 89,
   "id": "4923fe17",
   "metadata": {},
   "outputs": [
    {
     "name": "stdout",
     "output_type": "stream",
     "text": [
      "43\n",
      "37\n",
      "20\n"
     ]
    }
   ],
   "source": [
    "values=list(pd.value_counts(data['touch reaction']))\n",
    "total=0\n",
    "for num in values:\n",
    "    total += num\n",
    "for x in values:\n",
    "    print(int(round((int(x)/total)*100,0)))"
   ]
  },
  {
   "cell_type": "code",
   "execution_count": 90,
   "id": "5410884e",
   "metadata": {},
   "outputs": [
    {
     "name": "stdout",
     "output_type": "stream",
     "text": [
      "The variance of list is : 195.92\n"
     ]
    }
   ],
   "source": [
    "calculate_std(values)"
   ]
  },
  {
   "cell_type": "markdown",
   "id": "b326dcad",
   "metadata": {},
   "source": [
    "## 6. Behaviour on hand"
   ]
  },
  {
   "cell_type": "code",
   "execution_count": 91,
   "id": "eedd5b81",
   "metadata": {},
   "outputs": [
    {
     "data": {
      "text/plain": [
       "jumps          920\n",
       "No Movement    765\n",
       "Runs           276\n",
       "moves          106\n",
       "Name: behaviour on hand, dtype: int64"
      ]
     },
     "execution_count": 91,
     "metadata": {},
     "output_type": "execute_result"
    }
   ],
   "source": [
    "pd.value_counts(data['behaviour on hand'])"
   ]
  },
  {
   "cell_type": "code",
   "execution_count": 92,
   "id": "a7e2b98b",
   "metadata": {},
   "outputs": [
    {
     "name": "stdout",
     "output_type": "stream",
     "text": [
      "45\n",
      "37\n",
      "13\n",
      "5\n"
     ]
    }
   ],
   "source": [
    "values=list(pd.value_counts(data['behaviour on hand']))\n",
    "total=0\n",
    "for num in values:\n",
    "    total += num\n",
    "for x in values:\n",
    "    print(int(round((int(x)/total)*100,0)))"
   ]
  },
  {
   "cell_type": "code",
   "execution_count": 93,
   "id": "c527b8f6",
   "metadata": {},
   "outputs": [
    {
     "name": "stdout",
     "output_type": "stream",
     "text": [
      "The variance of list is : 335.75\n"
     ]
    }
   ],
   "source": [
    "calculate_std(values)"
   ]
  },
  {
   "cell_type": "markdown",
   "id": "1752080f",
   "metadata": {},
   "source": [
    "## 7. After putting away"
   ]
  },
  {
   "cell_type": "code",
   "execution_count": 94,
   "id": "d76bf143",
   "metadata": {},
   "outputs": [
    {
     "data": {
      "text/plain": [
       "stays in place    1170\n",
       "Runs               344\n",
       "hides              344\n",
       "moves              209\n",
       "Name: after putting away, dtype: int64"
      ]
     },
     "execution_count": 94,
     "metadata": {},
     "output_type": "execute_result"
    }
   ],
   "source": [
    "pd.value_counts(data['after putting away'])"
   ]
  },
  {
   "cell_type": "code",
   "execution_count": 95,
   "id": "15d6753a",
   "metadata": {},
   "outputs": [
    {
     "name": "stdout",
     "output_type": "stream",
     "text": [
      "57\n",
      "17\n",
      "17\n",
      "10\n"
     ]
    }
   ],
   "source": [
    "values=list(pd.value_counts(data['after putting away']))\n",
    "total=0\n",
    "for num in values:\n",
    "    total += num\n",
    "for x in values:\n",
    "    print(int(round((int(x)/total)*100,0)))"
   ]
  },
  {
   "cell_type": "code",
   "execution_count": 96,
   "id": "ccfe170e",
   "metadata": {},
   "outputs": [
    {
     "name": "stdout",
     "output_type": "stream",
     "text": [
      "The variance of list is : 381.16\n"
     ]
    }
   ],
   "source": [
    "calculate_std(values)"
   ]
  },
  {
   "cell_type": "code",
   "execution_count": null,
   "id": "7e2d0745",
   "metadata": {},
   "outputs": [],
   "source": []
  }
 ],
 "metadata": {
  "kernelspec": {
   "display_name": "Python 3 (ipykernel)",
   "language": "python",
   "name": "python3"
  },
  "language_info": {
   "codemirror_mode": {
    "name": "ipython",
    "version": 3
   },
   "file_extension": ".py",
   "mimetype": "text/x-python",
   "name": "python",
   "nbconvert_exporter": "python",
   "pygments_lexer": "ipython3",
   "version": "3.10.4"
  }
 },
 "nbformat": 4,
 "nbformat_minor": 5
}
