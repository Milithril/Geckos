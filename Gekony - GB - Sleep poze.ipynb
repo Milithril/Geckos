{
 "cells": [
  {
   "cell_type": "markdown",
   "id": "cf0eb9d4",
   "metadata": {},
   "source": [
    "## Author\n",
    "Jarosław Wełeszczuk"
   ]
  },
  {
   "cell_type": "code",
   "execution_count": 1,
   "id": "e907fcf4",
   "metadata": {},
   "outputs": [],
   "source": [
    "import pandas as pd\n",
    "import numpy as np\n",
    "from sklearn.ensemble import GradientBoostingClassifier \n",
    "from sklearn.model_selection import GridSearchCV\n",
    "\n",
    "from sklearn.model_selection import train_test_split\n",
    "from sklearn.model_selection import cross_val_score, KFold\n",
    "import matplotlib.pyplot as plt \n",
    "\n",
    "from sklearn.feature_selection import RFECV\n",
    "from sklearn.metrics import make_scorer\n",
    "\n",
    "from sklearn.metrics import confusion_matrix\n",
    "from sklearn.metrics import f1_score, make_scorer\n",
    "\n",
    "import seaborn as sns"
   ]
  },
  {
   "cell_type": "code",
   "execution_count": 2,
   "id": "a63985f1",
   "metadata": {},
   "outputs": [],
   "source": [
    "caly_df=pd.read_csv('Prepared_geko_data.csv',sep=';')"
   ]
  },
  {
   "cell_type": "code",
   "execution_count": 3,
   "id": "26b10ea4",
   "metadata": {},
   "outputs": [
    {
     "data": {
      "text/html": [
       "<div>\n",
       "<style scoped>\n",
       "    .dataframe tbody tr th:only-of-type {\n",
       "        vertical-align: middle;\n",
       "    }\n",
       "\n",
       "    .dataframe tbody tr th {\n",
       "        vertical-align: top;\n",
       "    }\n",
       "\n",
       "    .dataframe thead th {\n",
       "        text-align: right;\n",
       "    }\n",
       "</style>\n",
       "<table border=\"1\" class=\"dataframe\">\n",
       "  <thead>\n",
       "    <tr style=\"text-align: right;\">\n",
       "      <th></th>\n",
       "      <th>time</th>\n",
       "      <th>temperatur</th>\n",
       "      <th>Sleep poze</th>\n",
       "      <th>Sleep position</th>\n",
       "      <th>splashing reaction</th>\n",
       "      <th>splashing reaction 2</th>\n",
       "      <th>touch reaction</th>\n",
       "      <th>behaviour on hand</th>\n",
       "      <th>after putting away</th>\n",
       "      <th>SPz | S shape</th>\n",
       "      <th>...</th>\n",
       "      <th>TR | runs</th>\n",
       "      <th>TR | moves</th>\n",
       "      <th>BoH | no movement</th>\n",
       "      <th>BoH | runs</th>\n",
       "      <th>BoH | jumps</th>\n",
       "      <th>BoH | moves</th>\n",
       "      <th>ApA | runs</th>\n",
       "      <th>ApA | hides</th>\n",
       "      <th>ApA | moves</th>\n",
       "      <th>ApA | stayes in place</th>\n",
       "    </tr>\n",
       "  </thead>\n",
       "  <tbody>\n",
       "    <tr>\n",
       "      <th>0</th>\n",
       "      <td>10</td>\n",
       "      <td>23</td>\n",
       "      <td>straight</td>\n",
       "      <td>in the hideout</td>\n",
       "      <td>No Movement</td>\n",
       "      <td>does not licks</td>\n",
       "      <td>No Movement</td>\n",
       "      <td>No Movement</td>\n",
       "      <td>stays in place</td>\n",
       "      <td>0</td>\n",
       "      <td>...</td>\n",
       "      <td>0</td>\n",
       "      <td>0</td>\n",
       "      <td>1</td>\n",
       "      <td>0</td>\n",
       "      <td>0</td>\n",
       "      <td>0</td>\n",
       "      <td>0</td>\n",
       "      <td>0</td>\n",
       "      <td>0</td>\n",
       "      <td>1</td>\n",
       "    </tr>\n",
       "    <tr>\n",
       "      <th>1</th>\n",
       "      <td>10</td>\n",
       "      <td>23</td>\n",
       "      <td>U shape</td>\n",
       "      <td>in the hideout</td>\n",
       "      <td>moves the head</td>\n",
       "      <td>does not licks</td>\n",
       "      <td>Runs</td>\n",
       "      <td>Runs</td>\n",
       "      <td>stays in place</td>\n",
       "      <td>0</td>\n",
       "      <td>...</td>\n",
       "      <td>1</td>\n",
       "      <td>0</td>\n",
       "      <td>0</td>\n",
       "      <td>1</td>\n",
       "      <td>0</td>\n",
       "      <td>0</td>\n",
       "      <td>0</td>\n",
       "      <td>0</td>\n",
       "      <td>0</td>\n",
       "      <td>1</td>\n",
       "    </tr>\n",
       "    <tr>\n",
       "      <th>2</th>\n",
       "      <td>10</td>\n",
       "      <td>23</td>\n",
       "      <td>active</td>\n",
       "      <td>active</td>\n",
       "      <td>No Movement</td>\n",
       "      <td>does not licks</td>\n",
       "      <td>No Movement</td>\n",
       "      <td>jumps</td>\n",
       "      <td>Runs</td>\n",
       "      <td>0</td>\n",
       "      <td>...</td>\n",
       "      <td>0</td>\n",
       "      <td>0</td>\n",
       "      <td>0</td>\n",
       "      <td>0</td>\n",
       "      <td>1</td>\n",
       "      <td>0</td>\n",
       "      <td>1</td>\n",
       "      <td>0</td>\n",
       "      <td>0</td>\n",
       "      <td>0</td>\n",
       "    </tr>\n",
       "    <tr>\n",
       "      <th>3</th>\n",
       "      <td>10</td>\n",
       "      <td>23</td>\n",
       "      <td>active</td>\n",
       "      <td>active</td>\n",
       "      <td>moves</td>\n",
       "      <td>licks</td>\n",
       "      <td>Runs</td>\n",
       "      <td>Runs</td>\n",
       "      <td>Runs</td>\n",
       "      <td>0</td>\n",
       "      <td>...</td>\n",
       "      <td>1</td>\n",
       "      <td>0</td>\n",
       "      <td>0</td>\n",
       "      <td>1</td>\n",
       "      <td>0</td>\n",
       "      <td>0</td>\n",
       "      <td>1</td>\n",
       "      <td>0</td>\n",
       "      <td>0</td>\n",
       "      <td>0</td>\n",
       "    </tr>\n",
       "    <tr>\n",
       "      <th>4</th>\n",
       "      <td>10</td>\n",
       "      <td>23</td>\n",
       "      <td>straight</td>\n",
       "      <td>in the hideout</td>\n",
       "      <td>moves the head</td>\n",
       "      <td>licks</td>\n",
       "      <td>Runs</td>\n",
       "      <td>No Movement</td>\n",
       "      <td>stays in place</td>\n",
       "      <td>0</td>\n",
       "      <td>...</td>\n",
       "      <td>1</td>\n",
       "      <td>0</td>\n",
       "      <td>1</td>\n",
       "      <td>0</td>\n",
       "      <td>0</td>\n",
       "      <td>0</td>\n",
       "      <td>0</td>\n",
       "      <td>0</td>\n",
       "      <td>0</td>\n",
       "      <td>1</td>\n",
       "    </tr>\n",
       "    <tr>\n",
       "      <th>...</th>\n",
       "      <td>...</td>\n",
       "      <td>...</td>\n",
       "      <td>...</td>\n",
       "      <td>...</td>\n",
       "      <td>...</td>\n",
       "      <td>...</td>\n",
       "      <td>...</td>\n",
       "      <td>...</td>\n",
       "      <td>...</td>\n",
       "      <td>...</td>\n",
       "      <td>...</td>\n",
       "      <td>...</td>\n",
       "      <td>...</td>\n",
       "      <td>...</td>\n",
       "      <td>...</td>\n",
       "      <td>...</td>\n",
       "      <td>...</td>\n",
       "      <td>...</td>\n",
       "      <td>...</td>\n",
       "      <td>...</td>\n",
       "      <td>...</td>\n",
       "    </tr>\n",
       "    <tr>\n",
       "      <th>2062</th>\n",
       "      <td>16</td>\n",
       "      <td>26</td>\n",
       "      <td>straight</td>\n",
       "      <td>on coconut</td>\n",
       "      <td>moves the head</td>\n",
       "      <td>licks</td>\n",
       "      <td>No Movement</td>\n",
       "      <td>Runs</td>\n",
       "      <td>stays in place</td>\n",
       "      <td>0</td>\n",
       "      <td>...</td>\n",
       "      <td>0</td>\n",
       "      <td>0</td>\n",
       "      <td>0</td>\n",
       "      <td>1</td>\n",
       "      <td>0</td>\n",
       "      <td>0</td>\n",
       "      <td>0</td>\n",
       "      <td>0</td>\n",
       "      <td>0</td>\n",
       "      <td>1</td>\n",
       "    </tr>\n",
       "    <tr>\n",
       "      <th>2063</th>\n",
       "      <td>16</td>\n",
       "      <td>26</td>\n",
       "      <td>straight</td>\n",
       "      <td>back wall</td>\n",
       "      <td>moves the head</td>\n",
       "      <td>does not licks</td>\n",
       "      <td>No Movement</td>\n",
       "      <td>jumps</td>\n",
       "      <td>stays in place</td>\n",
       "      <td>0</td>\n",
       "      <td>...</td>\n",
       "      <td>0</td>\n",
       "      <td>0</td>\n",
       "      <td>0</td>\n",
       "      <td>0</td>\n",
       "      <td>1</td>\n",
       "      <td>0</td>\n",
       "      <td>0</td>\n",
       "      <td>0</td>\n",
       "      <td>0</td>\n",
       "      <td>1</td>\n",
       "    </tr>\n",
       "    <tr>\n",
       "      <th>2064</th>\n",
       "      <td>16</td>\n",
       "      <td>26</td>\n",
       "      <td>active</td>\n",
       "      <td>active</td>\n",
       "      <td>moves</td>\n",
       "      <td>licks</td>\n",
       "      <td>moves</td>\n",
       "      <td>Runs</td>\n",
       "      <td>moves</td>\n",
       "      <td>0</td>\n",
       "      <td>...</td>\n",
       "      <td>0</td>\n",
       "      <td>1</td>\n",
       "      <td>0</td>\n",
       "      <td>1</td>\n",
       "      <td>0</td>\n",
       "      <td>0</td>\n",
       "      <td>0</td>\n",
       "      <td>0</td>\n",
       "      <td>1</td>\n",
       "      <td>0</td>\n",
       "    </tr>\n",
       "    <tr>\n",
       "      <th>2065</th>\n",
       "      <td>16</td>\n",
       "      <td>26</td>\n",
       "      <td>active</td>\n",
       "      <td>active</td>\n",
       "      <td>moves</td>\n",
       "      <td>licks</td>\n",
       "      <td>moves</td>\n",
       "      <td>moves</td>\n",
       "      <td>moves</td>\n",
       "      <td>0</td>\n",
       "      <td>...</td>\n",
       "      <td>0</td>\n",
       "      <td>1</td>\n",
       "      <td>0</td>\n",
       "      <td>0</td>\n",
       "      <td>0</td>\n",
       "      <td>1</td>\n",
       "      <td>0</td>\n",
       "      <td>0</td>\n",
       "      <td>1</td>\n",
       "      <td>0</td>\n",
       "    </tr>\n",
       "    <tr>\n",
       "      <th>2066</th>\n",
       "      <td>16</td>\n",
       "      <td>26</td>\n",
       "      <td>straight</td>\n",
       "      <td>front wall</td>\n",
       "      <td>No Movement</td>\n",
       "      <td>does not licks</td>\n",
       "      <td>moves</td>\n",
       "      <td>moves</td>\n",
       "      <td>hides</td>\n",
       "      <td>0</td>\n",
       "      <td>...</td>\n",
       "      <td>0</td>\n",
       "      <td>1</td>\n",
       "      <td>0</td>\n",
       "      <td>0</td>\n",
       "      <td>0</td>\n",
       "      <td>1</td>\n",
       "      <td>0</td>\n",
       "      <td>1</td>\n",
       "      <td>0</td>\n",
       "      <td>0</td>\n",
       "    </tr>\n",
       "  </tbody>\n",
       "</table>\n",
       "<p>2067 rows × 36 columns</p>\n",
       "</div>"
      ],
      "text/plain": [
       "      time  temperatur Sleep poze  Sleep position splashing reaction  \\\n",
       "0       10          23   straight  in the hideout        No Movement   \n",
       "1       10          23    U shape  in the hideout     moves the head   \n",
       "2       10          23     active          active        No Movement   \n",
       "3       10          23     active          active              moves   \n",
       "4       10          23   straight  in the hideout     moves the head   \n",
       "...    ...         ...        ...             ...                ...   \n",
       "2062    16          26   straight      on coconut     moves the head   \n",
       "2063    16          26   straight       back wall     moves the head   \n",
       "2064    16          26     active          active              moves   \n",
       "2065    16          26     active          active              moves   \n",
       "2066    16          26   straight      front wall        No Movement   \n",
       "\n",
       "     splashing reaction 2 touch reaction behaviour on hand after putting away  \\\n",
       "0          does not licks    No Movement       No Movement     stays in place   \n",
       "1          does not licks           Runs              Runs     stays in place   \n",
       "2          does not licks    No Movement             jumps               Runs   \n",
       "3                   licks           Runs              Runs               Runs   \n",
       "4                   licks           Runs       No Movement     stays in place   \n",
       "...                   ...            ...               ...                ...   \n",
       "2062                licks    No Movement              Runs     stays in place   \n",
       "2063       does not licks    No Movement             jumps     stays in place   \n",
       "2064                licks          moves              Runs              moves   \n",
       "2065                licks          moves             moves              moves   \n",
       "2066       does not licks          moves             moves              hides   \n",
       "\n",
       "      SPz | S shape  ...  TR | runs  TR | moves  BoH | no movement  \\\n",
       "0                 0  ...          0           0                  1   \n",
       "1                 0  ...          1           0                  0   \n",
       "2                 0  ...          0           0                  0   \n",
       "3                 0  ...          1           0                  0   \n",
       "4                 0  ...          1           0                  1   \n",
       "...             ...  ...        ...         ...                ...   \n",
       "2062              0  ...          0           0                  0   \n",
       "2063              0  ...          0           0                  0   \n",
       "2064              0  ...          0           1                  0   \n",
       "2065              0  ...          0           1                  0   \n",
       "2066              0  ...          0           1                  0   \n",
       "\n",
       "      BoH | runs  BoH | jumps  BoH | moves  ApA | runs  ApA | hides  \\\n",
       "0              0            0            0           0            0   \n",
       "1              1            0            0           0            0   \n",
       "2              0            1            0           1            0   \n",
       "3              1            0            0           1            0   \n",
       "4              0            0            0           0            0   \n",
       "...          ...          ...          ...         ...          ...   \n",
       "2062           1            0            0           0            0   \n",
       "2063           0            1            0           0            0   \n",
       "2064           1            0            0           0            0   \n",
       "2065           0            0            1           0            0   \n",
       "2066           0            0            1           0            1   \n",
       "\n",
       "      ApA | moves  ApA | stayes in place  \n",
       "0               0                      1  \n",
       "1               0                      1  \n",
       "2               0                      0  \n",
       "3               0                      0  \n",
       "4               0                      1  \n",
       "...           ...                    ...  \n",
       "2062            0                      1  \n",
       "2063            0                      1  \n",
       "2064            1                      0  \n",
       "2065            1                      0  \n",
       "2066            0                      0  \n",
       "\n",
       "[2067 rows x 36 columns]"
      ]
     },
     "execution_count": 3,
     "metadata": {},
     "output_type": "execute_result"
    }
   ],
   "source": [
    "caly_df"
   ]
  },
  {
   "cell_type": "code",
   "execution_count": 4,
   "id": "2cc01f50",
   "metadata": {},
   "outputs": [
    {
     "data": {
      "text/plain": [
       "<AxesSubplot:>"
      ]
     },
     "execution_count": 4,
     "metadata": {},
     "output_type": "execute_result"
    },
    {
     "data": {
      "image/png": "[encoded data removed]",
      "text/plain": [
       "<Figure size 432x288 with 1 Axes>"
      ]
     },
     "metadata": {
      "needs_background": "light"
     },
     "output_type": "display_data"
    }
   ],
   "source": [
    "caly_df['time'].hist()"
   ]
  },
  {
   "cell_type": "code",
   "execution_count": 5,
   "id": "1704574d",
   "metadata": {},
   "outputs": [
    {
     "data": {
      "text/plain": [
       "<AxesSubplot:>"
      ]
     },
     "execution_count": 5,
     "metadata": {},
     "output_type": "execute_result"
    },
    {
     "data": {
      "image/png": "[encoded data removed]",
      "text/plain": [
       "<Figure size 432x288 with 1 Axes>"
      ]
     },
     "metadata": {
      "needs_background": "light"
     },
     "output_type": "display_data"
    }
   ],
   "source": [
    "caly_df['temperatur'].hist()"
   ]
  },
  {
   "cell_type": "code",
   "execution_count": 6,
   "id": "49a108e1",
   "metadata": {},
   "outputs": [],
   "source": [
    "caly_label=caly_df['Sleep poze']"
   ]
  },
  {
   "cell_type": "code",
   "execution_count": 7,
   "id": "fcf90337",
   "metadata": {},
   "outputs": [],
   "source": [
    "del caly_df['Sleep poze']\n",
    "del caly_df['Sleep position']\n",
    "del caly_df['splashing reaction']\n",
    "del caly_df['splashing reaction 2']\n",
    "del caly_df['touch reaction']\n",
    "del caly_df['behaviour on hand']\n",
    "del caly_df['after putting away']"
   ]
  },
  {
   "cell_type": "code",
   "execution_count": 8,
   "id": "eb93f76c",
   "metadata": {},
   "outputs": [],
   "source": [
    "del caly_df['SPz | S shape']\n",
    "del caly_df['SPz | U shape']\n",
    "del caly_df['SPz | active']\n",
    "del caly_df['SPz | straight']"
   ]
  },
  {
   "cell_type": "code",
   "execution_count": 9,
   "id": "b8737920",
   "metadata": {
    "scrolled": false
   },
   "outputs": [
    {
     "name": "stdout",
     "output_type": "stream",
     "text": [
      "<class 'pandas.core.frame.DataFrame'>\n",
      "RangeIndex: 2067 entries, 0 to 2066\n",
      "Data columns (total 25 columns):\n",
      " #   Column                 Non-Null Count  Dtype\n",
      "---  ------                 --------------  -----\n",
      " 0   time                   2067 non-null   int64\n",
      " 1   temperatur             2067 non-null   int64\n",
      " 2   SPs | active           2067 non-null   int64\n",
      " 3   SPs | back wall        2067 non-null   int64\n",
      " 4   SPs | front wall       2067 non-null   int64\n",
      " 5   SPs | in the hideout   2067 non-null   int64\n",
      " 6   SPs | left wall        2067 non-null   int64\n",
      " 7   SPs | on coconut       2067 non-null   int64\n",
      " 8   SPs | right wall       2067 non-null   int64\n",
      " 9   SR | no movement       2067 non-null   int64\n",
      " 10  SR | moves             2067 non-null   int64\n",
      " 11  SR | moves the head    2067 non-null   int64\n",
      " 12  SR2 | does not licks   2067 non-null   int64\n",
      " 13  SR2 | licks            2067 non-null   int64\n",
      " 14  TR | no movement       2067 non-null   int64\n",
      " 15  TR | runs              2067 non-null   int64\n",
      " 16  TR | moves             2067 non-null   int64\n",
      " 17  BoH | no movement      2067 non-null   int64\n",
      " 18  BoH | runs             2067 non-null   int64\n",
      " 19  BoH | jumps            2067 non-null   int64\n",
      " 20  BoH | moves            2067 non-null   int64\n",
      " 21  ApA | runs             2067 non-null   int64\n",
      " 22  ApA | hides            2067 non-null   int64\n",
      " 23  ApA | moves            2067 non-null   int64\n",
      " 24  ApA | stayes in place  2067 non-null   int64\n",
      "dtypes: int64(25)\n",
      "memory usage: 403.8 KB\n"
     ]
    }
   ],
   "source": [
    "caly_df.info()"
   ]
  },
  {
   "cell_type": "code",
   "execution_count": 34,
   "id": "7f18f35a",
   "metadata": {},
   "outputs": [],
   "source": [
    "param_grid = {\n",
    "    'criterion':['friedman_mse','mse'],#\n",
    "    'min_samples_split':range(5,31,15), #\n",
    "    'min_samples_leaf': range(5,31,15),     #\n",
    "    'max_leaf_nodes':range(5,36,10), #\n",
    "    'max_depth':list(range(5, 36,10)), #\n",
    "    'n_estimators':[100],\n",
    "    'learning_rate':[0.1,0.4],#\n",
    "    'max_features':['auto','sqrt','log2',None],\n",
    "    'min_weight_fraction_leaf':[0.0,0.2],\n",
    "    'min_impurity_decrease':[0.0,0.2]\n",
    "}"
   ]
  },
  {
   "cell_type": "code",
   "execution_count": 10,
   "id": "27e1e0af",
   "metadata": {},
   "outputs": [],
   "source": [
    "f1 = make_scorer(f1_score , average='macro')"
   ]
  },
  {
   "cell_type": "code",
   "execution_count": 36,
   "id": "4f85ba8a",
   "metadata": {},
   "outputs": [
    {
     "name": "stdout",
     "output_type": "stream",
     "text": [
      "Fitting 2 folds for each of 4096 candidates, totalling 8192 fits\n"
     ]
    },
    {
     "data": {
      "text/plain": [
       "GridSearchCV(cv=2, estimator=GradientBoostingClassifier(random_state=42),\n",
       "             n_jobs=1,\n",
       "             param_grid={'criterion': ['friedman_mse', 'mse'],\n",
       "                         'learning_rate': [0.1, 0.4],\n",
       "                         'max_depth': [5, 15, 25, 35],\n",
       "                         'max_features': ['auto', 'sqrt', 'log2', None],\n",
       "                         'max_leaf_nodes': range(5, 36, 10),\n",
       "                         'min_impurity_decrease': [0.0, 0.2],\n",
       "                         'min_samples_leaf': range(5, 31, 15),\n",
       "                         'min_samples_split': range(5, 31, 15),\n",
       "                         'min_weight_fraction_leaf': [0.0, 0.2],\n",
       "                         'n_estimators': [100]},\n",
       "             scoring=make_scorer(f1_score, average=macro), verbose=1)"
      ]
     },
     "execution_count": 36,
     "metadata": {},
     "output_type": "execute_result"
    }
   ],
   "source": [
    "dt_1 = GradientBoostingClassifier(random_state=42)\n",
    "grid_search_1 = GridSearchCV(estimator = dt_1, param_grid = param_grid, \n",
    "                          cv = 2, n_jobs = 1, verbose = 1, scoring=f1)\n",
    "grid_search_1.fit(caly_df, np.ravel(caly_label))"
   ]
  },
  {
   "cell_type": "code",
   "execution_count": 37,
   "id": "001ca114",
   "metadata": {},
   "outputs": [
    {
     "data": {
      "text/plain": [
       "0.5566923730557098"
      ]
     },
     "execution_count": 37,
     "metadata": {},
     "output_type": "execute_result"
    }
   ],
   "source": [
    "grid_search_1.best_score_ "
   ]
  },
  {
   "cell_type": "code",
   "execution_count": 38,
   "id": "0433fc91",
   "metadata": {},
   "outputs": [
    {
     "data": {
      "text/plain": [
       "GradientBoostingClassifier(max_depth=5, max_features='log2', max_leaf_nodes=5,\n",
       "                           min_samples_leaf=5, min_samples_split=5,\n",
       "                           random_state=42)"
      ]
     },
     "execution_count": 38,
     "metadata": {},
     "output_type": "execute_result"
    }
   ],
   "source": [
    "grid_search_1.best_estimator_"
   ]
  },
  {
   "cell_type": "code",
   "execution_count": 39,
   "id": "1b7f4be8",
   "metadata": {},
   "outputs": [
    {
     "data": {
      "text/plain": [
       "{'criterion': 'friedman_mse',\n",
       " 'learning_rate': 0.1,\n",
       " 'max_depth': 5,\n",
       " 'max_features': 'log2',\n",
       " 'max_leaf_nodes': 5,\n",
       " 'min_impurity_decrease': 0.0,\n",
       " 'min_samples_leaf': 5,\n",
       " 'min_samples_split': 5,\n",
       " 'min_weight_fraction_leaf': 0.0,\n",
       " 'n_estimators': 100}"
      ]
     },
     "execution_count": 39,
     "metadata": {},
     "output_type": "execute_result"
    }
   ],
   "source": [
    "grid_search_1.best_params_"
   ]
  },
  {
   "cell_type": "code",
   "execution_count": 42,
   "id": "44da2cdb",
   "metadata": {},
   "outputs": [],
   "source": [
    "param_grid = {\n",
    "    'criterion':['friedman_mse'],#\n",
    "    'min_samples_split':range(5,10,2), \n",
    "    'min_samples_leaf': range(5,10,2),     \n",
    "    'max_leaf_nodes':range(5,10,2), \n",
    "    'max_depth':list(range(5, 10,2)), \n",
    "    'n_estimators':[100],\n",
    "    'learning_rate':[0.1,0.2],\n",
    "    'max_features':['log2'], #\n",
    "    'min_weight_fraction_leaf':[0.0,0.1],\n",
    "    'min_impurity_decrease':[0.0,0.1]\n",
    "}"
   ]
  },
  {
   "cell_type": "code",
   "execution_count": 43,
   "id": "8492fe25",
   "metadata": {},
   "outputs": [
    {
     "name": "stdout",
     "output_type": "stream",
     "text": [
      "Fitting 2 folds for each of 648 candidates, totalling 1296 fits\n"
     ]
    },
    {
     "data": {
      "text/plain": [
       "GridSearchCV(cv=2, estimator=GradientBoostingClassifier(random_state=42),\n",
       "             n_jobs=1,\n",
       "             param_grid={'criterion': ['friedman_mse'],\n",
       "                         'learning_rate': [0.1, 0.2], 'max_depth': [5, 7, 9],\n",
       "                         'max_features': ['log2'],\n",
       "                         'max_leaf_nodes': range(5, 10, 2),\n",
       "                         'min_impurity_decrease': [0.0, 0.1],\n",
       "                         'min_samples_leaf': range(5, 10, 2),\n",
       "                         'min_samples_split': range(5, 10, 2),\n",
       "                         'min_weight_fraction_leaf': [0.0, 0.1],\n",
       "                         'n_estimators': [100]},\n",
       "             scoring=make_scorer(f1_score, average=macro), verbose=1)"
      ]
     },
     "execution_count": 43,
     "metadata": {},
     "output_type": "execute_result"
    }
   ],
   "source": [
    "dt_1 = GradientBoostingClassifier(random_state=42)\n",
    "grid_search_1 = GridSearchCV(estimator = dt_1, param_grid = param_grid, \n",
    "                          cv = 2, n_jobs = 1, verbose = 1, scoring=f1)\n",
    "grid_search_1.fit(caly_df, np.ravel(caly_label))"
   ]
  },
  {
   "cell_type": "code",
   "execution_count": 44,
   "id": "d840fbae",
   "metadata": {},
   "outputs": [
    {
     "data": {
      "text/plain": [
       "0.5601949667895143"
      ]
     },
     "execution_count": 44,
     "metadata": {},
     "output_type": "execute_result"
    }
   ],
   "source": [
    "grid_search_1.best_score_"
   ]
  },
  {
   "cell_type": "code",
   "execution_count": 45,
   "id": "26b05af6",
   "metadata": {},
   "outputs": [
    {
     "data": {
      "text/plain": [
       "GradientBoostingClassifier(learning_rate=0.2, max_depth=5, max_features='log2',\n",
       "                           max_leaf_nodes=5, min_samples_leaf=9,\n",
       "                           min_samples_split=5, random_state=42)"
      ]
     },
     "execution_count": 45,
     "metadata": {},
     "output_type": "execute_result"
    }
   ],
   "source": [
    "grid_search_1.best_estimator_"
   ]
  },
  {
   "cell_type": "code",
   "execution_count": 46,
   "id": "9c076b5e",
   "metadata": {},
   "outputs": [
    {
     "data": {
      "text/plain": [
       "{'criterion': 'friedman_mse',\n",
       " 'learning_rate': 0.2,\n",
       " 'max_depth': 5,\n",
       " 'max_features': 'log2',\n",
       " 'max_leaf_nodes': 5,\n",
       " 'min_impurity_decrease': 0.0,\n",
       " 'min_samples_leaf': 9,\n",
       " 'min_samples_split': 5,\n",
       " 'min_weight_fraction_leaf': 0.0,\n",
       " 'n_estimators': 100}"
      ]
     },
     "execution_count": 46,
     "metadata": {},
     "output_type": "execute_result"
    }
   ],
   "source": [
    "grid_search_1.best_params_"
   ]
  },
  {
   "cell_type": "code",
   "execution_count": 47,
   "id": "87025dc7",
   "metadata": {},
   "outputs": [],
   "source": [
    "param_grid = {\n",
    "    'criterion':['friedman_mse'],#\n",
    "    'min_samples_split':range(2,7,1),  \n",
    "    'min_samples_leaf': range(7,13,1),   #   \n",
    "    'max_leaf_nodes':range(2,6,1),  #\n",
    "    'max_depth':list(range(2, 6,1)), #\n",
    "    'n_estimators':[100],\n",
    "    'learning_rate':[0.2,0.3,0.4], #\n",
    "    'max_features':['log2'], #\n",
    "    'min_weight_fraction_leaf':[0.0,0.1],\n",
    "    'min_impurity_decrease':[0.0] #\n",
    "}"
   ]
  },
  {
   "cell_type": "code",
   "execution_count": 48,
   "id": "a2a50d27",
   "metadata": {},
   "outputs": [
    {
     "name": "stdout",
     "output_type": "stream",
     "text": [
      "Fitting 2 folds for each of 2880 candidates, totalling 5760 fits\n"
     ]
    },
    {
     "data": {
      "text/plain": [
       "GridSearchCV(cv=2, estimator=GradientBoostingClassifier(random_state=42),\n",
       "             n_jobs=1,\n",
       "             param_grid={'criterion': ['friedman_mse'],\n",
       "                         'learning_rate': [0.2, 0.3, 0.4],\n",
       "                         'max_depth': [2, 3, 4, 5], 'max_features': ['log2'],\n",
       "                         'max_leaf_nodes': range(2, 6),\n",
       "                         'min_impurity_decrease': [0.0],\n",
       "                         'min_samples_leaf': range(7, 13),\n",
       "                         'min_samples_split': range(2, 7),\n",
       "                         'min_weight_fraction_leaf': [0.0, 0.1],\n",
       "                         'n_estimators': [100]},\n",
       "             scoring=make_scorer(f1_score, average=macro), verbose=1)"
      ]
     },
     "execution_count": 48,
     "metadata": {},
     "output_type": "execute_result"
    }
   ],
   "source": [
    "dt_1 = GradientBoostingClassifier(random_state=42)\n",
    "grid_search_1 = GridSearchCV(estimator = dt_1, param_grid = param_grid, \n",
    "                          cv = 2, n_jobs = 1, verbose = 1, scoring=f1)\n",
    "grid_search_1.fit(caly_df, np.ravel(caly_label))"
   ]
  },
  {
   "cell_type": "code",
   "execution_count": 49,
   "id": "b02ed370",
   "metadata": {},
   "outputs": [
    {
     "data": {
      "text/plain": [
       "0.5629863512428299"
      ]
     },
     "execution_count": 49,
     "metadata": {},
     "output_type": "execute_result"
    }
   ],
   "source": [
    "grid_search_1.best_score_"
   ]
  },
  {
   "cell_type": "code",
   "execution_count": 50,
   "id": "2ee091c0",
   "metadata": {},
   "outputs": [
    {
     "data": {
      "text/plain": [
       "GradientBoostingClassifier(learning_rate=0.3, max_features='log2',\n",
       "                           max_leaf_nodes=4, min_samples_leaf=12,\n",
       "                           random_state=42)"
      ]
     },
     "execution_count": 50,
     "metadata": {},
     "output_type": "execute_result"
    }
   ],
   "source": [
    "grid_search_1.best_estimator_"
   ]
  },
  {
   "cell_type": "code",
   "execution_count": 51,
   "id": "c0bf1e38",
   "metadata": {},
   "outputs": [
    {
     "data": {
      "text/plain": [
       "{'criterion': 'friedman_mse',\n",
       " 'learning_rate': 0.3,\n",
       " 'max_depth': 3,\n",
       " 'max_features': 'log2',\n",
       " 'max_leaf_nodes': 4,\n",
       " 'min_impurity_decrease': 0.0,\n",
       " 'min_samples_leaf': 12,\n",
       " 'min_samples_split': 2,\n",
       " 'min_weight_fraction_leaf': 0.0,\n",
       " 'n_estimators': 100}"
      ]
     },
     "execution_count": 51,
     "metadata": {},
     "output_type": "execute_result"
    }
   ],
   "source": [
    "grid_search_1.best_params_"
   ]
  },
  {
   "cell_type": "code",
   "execution_count": 52,
   "id": "ee6d946c",
   "metadata": {},
   "outputs": [],
   "source": [
    "param_grid = {\n",
    "    'criterion':['friedman_mse'],#\n",
    "    'min_samples_split':[2],  \n",
    "    'min_samples_leaf': [12],   #   \n",
    "    'max_leaf_nodes':[4],  #\n",
    "    'max_depth':[3], #\n",
    "    'n_estimators':[100,500,1000],\n",
    "    'learning_rate':[0.3], #\n",
    "    'max_features':['log2'], #\n",
    "    'min_weight_fraction_leaf':[0.0],\n",
    "    'min_impurity_decrease':[0.0] #\n",
    "}"
   ]
  },
  {
   "cell_type": "code",
   "execution_count": 53,
   "id": "53d412f7",
   "metadata": {},
   "outputs": [
    {
     "name": "stdout",
     "output_type": "stream",
     "text": [
      "Fitting 2 folds for each of 3 candidates, totalling 6 fits\n"
     ]
    },
    {
     "data": {
      "text/plain": [
       "GridSearchCV(cv=2, estimator=GradientBoostingClassifier(random_state=42),\n",
       "             n_jobs=1,\n",
       "             param_grid={'criterion': ['friedman_mse'], 'learning_rate': [0.3],\n",
       "                         'max_depth': [3], 'max_features': ['log2'],\n",
       "                         'max_leaf_nodes': [4], 'min_impurity_decrease': [0.0],\n",
       "                         'min_samples_leaf': [12], 'min_samples_split': [2],\n",
       "                         'min_weight_fraction_leaf': [0.0],\n",
       "                         'n_estimators': [100, 500, 1000]},\n",
       "             scoring=make_scorer(f1_score, average=macro), verbose=1)"
      ]
     },
     "execution_count": 53,
     "metadata": {},
     "output_type": "execute_result"
    }
   ],
   "source": [
    "dt_1 = GradientBoostingClassifier(random_state=42)\n",
    "grid_search_1 = GridSearchCV(estimator = dt_1, param_grid = param_grid, \n",
    "                          cv = 2, n_jobs = 1, verbose = 1, scoring=f1)\n",
    "grid_search_1.fit(caly_df, np.ravel(caly_label))"
   ]
  },
  {
   "cell_type": "code",
   "execution_count": 54,
   "id": "8a9fa192",
   "metadata": {},
   "outputs": [
    {
     "data": {
      "text/plain": [
       "0.5629863512428299"
      ]
     },
     "execution_count": 54,
     "metadata": {},
     "output_type": "execute_result"
    }
   ],
   "source": [
    "grid_search_1.best_score_"
   ]
  },
  {
   "cell_type": "code",
   "execution_count": 55,
   "id": "8a22fd1b",
   "metadata": {},
   "outputs": [
    {
     "data": {
      "text/plain": [
       "GradientBoostingClassifier(learning_rate=0.3, max_features='log2',\n",
       "                           max_leaf_nodes=4, min_samples_leaf=12,\n",
       "                           random_state=42)"
      ]
     },
     "execution_count": 55,
     "metadata": {},
     "output_type": "execute_result"
    }
   ],
   "source": [
    "grid_search_1.best_estimator_"
   ]
  },
  {
   "cell_type": "code",
   "execution_count": 56,
   "id": "31f58950",
   "metadata": {},
   "outputs": [
    {
     "data": {
      "text/plain": [
       "{'criterion': 'friedman_mse',\n",
       " 'learning_rate': 0.3,\n",
       " 'max_depth': 3,\n",
       " 'max_features': 'log2',\n",
       " 'max_leaf_nodes': 4,\n",
       " 'min_impurity_decrease': 0.0,\n",
       " 'min_samples_leaf': 12,\n",
       " 'min_samples_split': 2,\n",
       " 'min_weight_fraction_leaf': 0.0,\n",
       " 'n_estimators': 100}"
      ]
     },
     "execution_count": 56,
     "metadata": {},
     "output_type": "execute_result"
    }
   ],
   "source": [
    "grid_search_1.best_params_"
   ]
  },
  {
   "cell_type": "code",
   "execution_count": 49,
   "id": "3356f7d3",
   "metadata": {},
   "outputs": [
    {
     "data": {
      "text/html": [
       "<div>\n",
       "<style scoped>\n",
       "    .dataframe tbody tr th:only-of-type {\n",
       "        vertical-align: middle;\n",
       "    }\n",
       "\n",
       "    .dataframe tbody tr th {\n",
       "        vertical-align: top;\n",
       "    }\n",
       "\n",
       "    .dataframe thead th {\n",
       "        text-align: right;\n",
       "    }\n",
       "</style>\n",
       "<table border=\"1\" class=\"dataframe\">\n",
       "  <thead>\n",
       "    <tr style=\"text-align: right;\">\n",
       "      <th></th>\n",
       "      <th>time</th>\n",
       "      <th>temperatur</th>\n",
       "      <th>SPz_|_S_shape</th>\n",
       "      <th>SPz_|_U_shape</th>\n",
       "      <th>SPz_|_active</th>\n",
       "      <th>SPz_|_straight</th>\n",
       "      <th>SPs_|_active</th>\n",
       "      <th>SPs_|_back_wall</th>\n",
       "      <th>SPs_|_front_wall</th>\n",
       "      <th>SPs_|_in_the_hideout</th>\n",
       "      <th>...</th>\n",
       "      <th>TR_|_runs</th>\n",
       "      <th>TR_|_moves</th>\n",
       "      <th>BoH_|_no_movement</th>\n",
       "      <th>BoH_|_runs</th>\n",
       "      <th>BoH_|_jumps</th>\n",
       "      <th>BoH_|_moves</th>\n",
       "      <th>ApA_|_runs</th>\n",
       "      <th>ApA_|_hides</th>\n",
       "      <th>ApA_|_moves</th>\n",
       "      <th>ApA_|_stayes_in_place</th>\n",
       "    </tr>\n",
       "  </thead>\n",
       "  <tbody>\n",
       "    <tr>\n",
       "      <th>0</th>\n",
       "      <td>10</td>\n",
       "      <td>23</td>\n",
       "      <td>0</td>\n",
       "      <td>0</td>\n",
       "      <td>0</td>\n",
       "      <td>1</td>\n",
       "      <td>0</td>\n",
       "      <td>0</td>\n",
       "      <td>0</td>\n",
       "      <td>1</td>\n",
       "      <td>...</td>\n",
       "      <td>0</td>\n",
       "      <td>0</td>\n",
       "      <td>1</td>\n",
       "      <td>0</td>\n",
       "      <td>0</td>\n",
       "      <td>0</td>\n",
       "      <td>0</td>\n",
       "      <td>0</td>\n",
       "      <td>0</td>\n",
       "      <td>1</td>\n",
       "    </tr>\n",
       "    <tr>\n",
       "      <th>1</th>\n",
       "      <td>10</td>\n",
       "      <td>23</td>\n",
       "      <td>0</td>\n",
       "      <td>1</td>\n",
       "      <td>0</td>\n",
       "      <td>0</td>\n",
       "      <td>0</td>\n",
       "      <td>0</td>\n",
       "      <td>0</td>\n",
       "      <td>1</td>\n",
       "      <td>...</td>\n",
       "      <td>1</td>\n",
       "      <td>0</td>\n",
       "      <td>0</td>\n",
       "      <td>1</td>\n",
       "      <td>0</td>\n",
       "      <td>0</td>\n",
       "      <td>0</td>\n",
       "      <td>0</td>\n",
       "      <td>0</td>\n",
       "      <td>1</td>\n",
       "    </tr>\n",
       "    <tr>\n",
       "      <th>2</th>\n",
       "      <td>10</td>\n",
       "      <td>23</td>\n",
       "      <td>0</td>\n",
       "      <td>0</td>\n",
       "      <td>1</td>\n",
       "      <td>0</td>\n",
       "      <td>1</td>\n",
       "      <td>0</td>\n",
       "      <td>0</td>\n",
       "      <td>0</td>\n",
       "      <td>...</td>\n",
       "      <td>0</td>\n",
       "      <td>0</td>\n",
       "      <td>0</td>\n",
       "      <td>0</td>\n",
       "      <td>1</td>\n",
       "      <td>0</td>\n",
       "      <td>1</td>\n",
       "      <td>0</td>\n",
       "      <td>0</td>\n",
       "      <td>0</td>\n",
       "    </tr>\n",
       "    <tr>\n",
       "      <th>3</th>\n",
       "      <td>10</td>\n",
       "      <td>23</td>\n",
       "      <td>0</td>\n",
       "      <td>0</td>\n",
       "      <td>1</td>\n",
       "      <td>0</td>\n",
       "      <td>1</td>\n",
       "      <td>0</td>\n",
       "      <td>0</td>\n",
       "      <td>0</td>\n",
       "      <td>...</td>\n",
       "      <td>1</td>\n",
       "      <td>0</td>\n",
       "      <td>0</td>\n",
       "      <td>1</td>\n",
       "      <td>0</td>\n",
       "      <td>0</td>\n",
       "      <td>1</td>\n",
       "      <td>0</td>\n",
       "      <td>0</td>\n",
       "      <td>0</td>\n",
       "    </tr>\n",
       "    <tr>\n",
       "      <th>4</th>\n",
       "      <td>10</td>\n",
       "      <td>23</td>\n",
       "      <td>0</td>\n",
       "      <td>0</td>\n",
       "      <td>0</td>\n",
       "      <td>1</td>\n",
       "      <td>0</td>\n",
       "      <td>0</td>\n",
       "      <td>0</td>\n",
       "      <td>1</td>\n",
       "      <td>...</td>\n",
       "      <td>1</td>\n",
       "      <td>0</td>\n",
       "      <td>1</td>\n",
       "      <td>0</td>\n",
       "      <td>0</td>\n",
       "      <td>0</td>\n",
       "      <td>0</td>\n",
       "      <td>0</td>\n",
       "      <td>0</td>\n",
       "      <td>1</td>\n",
       "    </tr>\n",
       "    <tr>\n",
       "      <th>...</th>\n",
       "      <td>...</td>\n",
       "      <td>...</td>\n",
       "      <td>...</td>\n",
       "      <td>...</td>\n",
       "      <td>...</td>\n",
       "      <td>...</td>\n",
       "      <td>...</td>\n",
       "      <td>...</td>\n",
       "      <td>...</td>\n",
       "      <td>...</td>\n",
       "      <td>...</td>\n",
       "      <td>...</td>\n",
       "      <td>...</td>\n",
       "      <td>...</td>\n",
       "      <td>...</td>\n",
       "      <td>...</td>\n",
       "      <td>...</td>\n",
       "      <td>...</td>\n",
       "      <td>...</td>\n",
       "      <td>...</td>\n",
       "      <td>...</td>\n",
       "    </tr>\n",
       "    <tr>\n",
       "      <th>2062</th>\n",
       "      <td>16</td>\n",
       "      <td>26</td>\n",
       "      <td>0</td>\n",
       "      <td>0</td>\n",
       "      <td>0</td>\n",
       "      <td>1</td>\n",
       "      <td>0</td>\n",
       "      <td>0</td>\n",
       "      <td>0</td>\n",
       "      <td>0</td>\n",
       "      <td>...</td>\n",
       "      <td>0</td>\n",
       "      <td>0</td>\n",
       "      <td>0</td>\n",
       "      <td>1</td>\n",
       "      <td>0</td>\n",
       "      <td>0</td>\n",
       "      <td>0</td>\n",
       "      <td>0</td>\n",
       "      <td>0</td>\n",
       "      <td>1</td>\n",
       "    </tr>\n",
       "    <tr>\n",
       "      <th>2063</th>\n",
       "      <td>16</td>\n",
       "      <td>26</td>\n",
       "      <td>0</td>\n",
       "      <td>0</td>\n",
       "      <td>0</td>\n",
       "      <td>1</td>\n",
       "      <td>0</td>\n",
       "      <td>1</td>\n",
       "      <td>0</td>\n",
       "      <td>0</td>\n",
       "      <td>...</td>\n",
       "      <td>0</td>\n",
       "      <td>0</td>\n",
       "      <td>0</td>\n",
       "      <td>0</td>\n",
       "      <td>1</td>\n",
       "      <td>0</td>\n",
       "      <td>0</td>\n",
       "      <td>0</td>\n",
       "      <td>0</td>\n",
       "      <td>1</td>\n",
       "    </tr>\n",
       "    <tr>\n",
       "      <th>2064</th>\n",
       "      <td>16</td>\n",
       "      <td>26</td>\n",
       "      <td>0</td>\n",
       "      <td>0</td>\n",
       "      <td>1</td>\n",
       "      <td>0</td>\n",
       "      <td>1</td>\n",
       "      <td>0</td>\n",
       "      <td>0</td>\n",
       "      <td>0</td>\n",
       "      <td>...</td>\n",
       "      <td>0</td>\n",
       "      <td>1</td>\n",
       "      <td>0</td>\n",
       "      <td>1</td>\n",
       "      <td>0</td>\n",
       "      <td>0</td>\n",
       "      <td>0</td>\n",
       "      <td>0</td>\n",
       "      <td>1</td>\n",
       "      <td>0</td>\n",
       "    </tr>\n",
       "    <tr>\n",
       "      <th>2065</th>\n",
       "      <td>16</td>\n",
       "      <td>26</td>\n",
       "      <td>0</td>\n",
       "      <td>0</td>\n",
       "      <td>1</td>\n",
       "      <td>0</td>\n",
       "      <td>1</td>\n",
       "      <td>0</td>\n",
       "      <td>0</td>\n",
       "      <td>0</td>\n",
       "      <td>...</td>\n",
       "      <td>0</td>\n",
       "      <td>1</td>\n",
       "      <td>0</td>\n",
       "      <td>0</td>\n",
       "      <td>0</td>\n",
       "      <td>1</td>\n",
       "      <td>0</td>\n",
       "      <td>0</td>\n",
       "      <td>1</td>\n",
       "      <td>0</td>\n",
       "    </tr>\n",
       "    <tr>\n",
       "      <th>2066</th>\n",
       "      <td>16</td>\n",
       "      <td>26</td>\n",
       "      <td>0</td>\n",
       "      <td>0</td>\n",
       "      <td>0</td>\n",
       "      <td>1</td>\n",
       "      <td>0</td>\n",
       "      <td>0</td>\n",
       "      <td>1</td>\n",
       "      <td>0</td>\n",
       "      <td>...</td>\n",
       "      <td>0</td>\n",
       "      <td>1</td>\n",
       "      <td>0</td>\n",
       "      <td>0</td>\n",
       "      <td>0</td>\n",
       "      <td>1</td>\n",
       "      <td>0</td>\n",
       "      <td>1</td>\n",
       "      <td>0</td>\n",
       "      <td>0</td>\n",
       "    </tr>\n",
       "  </tbody>\n",
       "</table>\n",
       "<p>2067 rows × 29 columns</p>\n",
       "</div>"
      ],
      "text/plain": [
       "      time  temperatur  SPz_|_S_shape  SPz_|_U_shape  SPz_|_active  \\\n",
       "0       10          23              0              0             0   \n",
       "1       10          23              0              1             0   \n",
       "2       10          23              0              0             1   \n",
       "3       10          23              0              0             1   \n",
       "4       10          23              0              0             0   \n",
       "...    ...         ...            ...            ...           ...   \n",
       "2062    16          26              0              0             0   \n",
       "2063    16          26              0              0             0   \n",
       "2064    16          26              0              0             1   \n",
       "2065    16          26              0              0             1   \n",
       "2066    16          26              0              0             0   \n",
       "\n",
       "      SPz_|_straight  SPs_|_active  SPs_|_back_wall  SPs_|_front_wall  \\\n",
       "0                  1             0                0                 0   \n",
       "1                  0             0                0                 0   \n",
       "2                  0             1                0                 0   \n",
       "3                  0             1                0                 0   \n",
       "4                  1             0                0                 0   \n",
       "...              ...           ...              ...               ...   \n",
       "2062               1             0                0                 0   \n",
       "2063               1             0                1                 0   \n",
       "2064               0             1                0                 0   \n",
       "2065               0             1                0                 0   \n",
       "2066               1             0                0                 1   \n",
       "\n",
       "      SPs_|_in_the_hideout  ...  TR_|_runs  TR_|_moves  BoH_|_no_movement  \\\n",
       "0                        1  ...          0           0                  1   \n",
       "1                        1  ...          1           0                  0   \n",
       "2                        0  ...          0           0                  0   \n",
       "3                        0  ...          1           0                  0   \n",
       "4                        1  ...          1           0                  1   \n",
       "...                    ...  ...        ...         ...                ...   \n",
       "2062                     0  ...          0           0                  0   \n",
       "2063                     0  ...          0           0                  0   \n",
       "2064                     0  ...          0           1                  0   \n",
       "2065                     0  ...          0           1                  0   \n",
       "2066                     0  ...          0           1                  0   \n",
       "\n",
       "      BoH_|_runs  BoH_|_jumps  BoH_|_moves  ApA_|_runs  ApA_|_hides  \\\n",
       "0              0            0            0           0            0   \n",
       "1              1            0            0           0            0   \n",
       "2              0            1            0           1            0   \n",
       "3              1            0            0           1            0   \n",
       "4              0            0            0           0            0   \n",
       "...          ...          ...          ...         ...          ...   \n",
       "2062           1            0            0           0            0   \n",
       "2063           0            1            0           0            0   \n",
       "2064           1            0            0           0            0   \n",
       "2065           0            0            1           0            0   \n",
       "2066           0            0            1           0            1   \n",
       "\n",
       "      ApA_|_moves  ApA_|_stayes_in_place  \n",
       "0               0                      1  \n",
       "1               0                      1  \n",
       "2               0                      0  \n",
       "3               0                      0  \n",
       "4               0                      1  \n",
       "...           ...                    ...  \n",
       "2062            0                      1  \n",
       "2063            0                      1  \n",
       "2064            1                      0  \n",
       "2065            1                      0  \n",
       "2066            0                      0  \n",
       "\n",
       "[2067 rows x 29 columns]"
      ]
     },
     "execution_count": 49,
     "metadata": {},
     "output_type": "execute_result"
    }
   ],
   "source": [
    "caly_df"
   ]
  },
  {
   "cell_type": "code",
   "execution_count": 11,
   "id": "bd9a177f",
   "metadata": {},
   "outputs": [],
   "source": [
    "kfold = KFold(n_splits=5, shuffle=False)\n",
    "dane_do_zapisu_1=pd.DataFrame()\n",
    "licznik=1\n",
    "wart_1=[]\n",
    "\n",
    "for train, test in kfold.split(caly_df, caly_label):\n",
    "    \n",
    "    RF_1 =GradientBoostingClassifier(learning_rate=0.3, max_features='log2',\n",
    "                           max_leaf_nodes=4, min_samples_leaf=12,\n",
    "                           random_state=42,max_depth=3,)\n",
    "    \n",
    "    RF_1.fit(caly_df.iloc[train],\n",
    "             caly_label.iloc[train])\n",
    "    predykcje=RF_1.predict(caly_df.iloc[test])\n",
    "    dane_folda_1=pd.DataFrame({\"pred\": predykcje.ravel(),\n",
    "                                \"obs\": caly_label.iloc[test],\n",
    "                                \"Fold\":licznik})\n",
    "    dane_do_zapisu_1=pd.concat([dane_do_zapisu_1,dane_folda_1])\n",
    "    \n",
    "    sredni_blad=f1_score(caly_label.iloc[test], predykcje, average='macro')\n",
    "    wart_1.append(sredni_blad)\n",
    "    licznik+=1"
   ]
  },
  {
   "cell_type": "code",
   "execution_count": 12,
   "id": "762a6f46",
   "metadata": {},
   "outputs": [
    {
     "data": {
      "text/plain": [
       "[0.5364385132140062,\n",
       " 0.5217155590898118,\n",
       " 0.5639836720148377,\n",
       " 0.5388515114088865,\n",
       " 0.6172075563068962]"
      ]
     },
     "execution_count": 12,
     "metadata": {},
     "output_type": "execute_result"
    }
   ],
   "source": [
    "wart_1"
   ]
  },
  {
   "cell_type": "code",
   "execution_count": 13,
   "id": "f23d0697",
   "metadata": {},
   "outputs": [
    {
     "data": {
      "text/plain": [
       "0.5556393624068876"
      ]
     },
     "execution_count": 13,
     "metadata": {},
     "output_type": "execute_result"
    }
   ],
   "source": [
    "sum(wart_1)/len(wart_1)"
   ]
  },
  {
   "cell_type": "code",
   "execution_count": 12,
   "id": "aa73202c",
   "metadata": {},
   "outputs": [
    {
     "data": {
      "text/plain": [
       "array([[234,  67,   0, 200],\n",
       "       [ 70, 101,   0, 254],\n",
       "       [  1,   2, 482,   1],\n",
       "       [157, 124,   2, 372]], dtype=int64)"
      ]
     },
     "execution_count": 12,
     "metadata": {},
     "output_type": "execute_result"
    }
   ],
   "source": [
    "confusion_matrix(dane_do_zapisu_1['obs'], dane_do_zapisu_1['pred'], labels=list(pd.unique(caly_label)))"
   ]
  },
  {
   "cell_type": "code",
   "execution_count": 13,
   "id": "ec1c7a55",
   "metadata": {},
   "outputs": [],
   "source": [
    "class_names = RF_1.classes_\n"
   ]
  },
  {
   "cell_type": "code",
   "execution_count": 14,
   "id": "519f2b45",
   "metadata": {},
   "outputs": [],
   "source": [
    "cf_matrix=confusion_matrix(dane_do_zapisu_1[dane_do_zapisu_1['Fold']==5]['obs'],\n",
    "                           dane_do_zapisu_1[dane_do_zapisu_1['Fold']==5]['pred'],\n",
    "                           labels=class_names)"
   ]
  },
  {
   "cell_type": "code",
   "execution_count": 15,
   "id": "2ad858fa",
   "metadata": {},
   "outputs": [
    {
     "data": {
      "text/plain": [
       "Text(0.5, 1.0, 'GradientBoosting - sleep poze')"
      ]
     },
     "execution_count": 15,
     "metadata": {},
     "output_type": "execute_result"
    },
    {
     "data": {
      "image/png": "[encoded data removed]",
      "text/plain": [
       "<Figure size 432x288 with 2 Axes>"
      ]
     },
     "metadata": {
      "needs_background": "light"
     },
     "output_type": "display_data"
    }
   ],
   "source": [
    "x_axis_labels = class_names\n",
    "y_axis_labels = class_names\n",
    "\n",
    "# create seabvorn heatmap with required labels\n",
    "ax=sns.heatmap(cf_matrix, xticklabels=x_axis_labels, yticklabels=y_axis_labels,annot=True)\n",
    "ax.set_title('GradientBoosting - sleep poze')"
   ]
  },
  {
   "cell_type": "code",
   "execution_count": 18,
   "id": "f84eed8f",
   "metadata": {},
   "outputs": [],
   "source": [
    "dane_do_zapisu_1.to_csv('Geko_GB__sleep poze.csv',sep=',')"
   ]
  },
  {
   "cell_type": "code",
   "execution_count": null,
   "id": "3f4f30cb",
   "metadata": {},
   "outputs": [],
   "source": []
  }
 ],
 "metadata": {
  "kernelspec": {
   "display_name": "Python 3 (ipykernel)",
   "language": "python",
   "name": "python3"
  },
  "language_info": {
   "codemirror_mode": {
    "name": "ipython",
    "version": 3
   },
   "file_extension": ".py",
   "mimetype": "text/x-python",
   "name": "python",
   "nbconvert_exporter": "python",
   "pygments_lexer": "ipython3",
   "version": "3.10.4"
  }
 },
 "nbformat": 4,
 "nbformat_minor": 5
}
